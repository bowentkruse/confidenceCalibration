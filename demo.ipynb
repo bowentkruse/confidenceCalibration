{
  "cells": [
    {
      "cell_type": "markdown",
      "id": "45d04c37",
      "metadata": {
        "id": "45d04c37"
      },
      "source": [
        "# Computer Vision Confidence Calibration\n",
        "\n",
        "## Introduction\n",
        "In the world of computer vision, and machine learning in general, confidence scores are an often missunderstood value. Many folks, both practictioners and project stakeholders in general, assume that a model's confidence score directly reflects the probability of correctness. However, this is only true if the model is well-calibrated.\n",
        "\n",
        "In real-world scenarios, particularly those of importance with high criticality, the likelihood of correctness is almost just as important as an accurate model prediction. Why? Because backend systems—whether it’s a database deciding what to store, or an API triggering an action—make binary decisions. Models give probabilities. Calibration is what lets a system draw a clean line between “trust this” and “maybe don’t\". If your computer vision or ML system doesn’t report confidence, or reports uncalibrated scores, you’re either leaving performance on the table, or the system itself is unimportant.\n",
        "\n",
        "In this demo, we'll first cover four ways to evaluate a model's calibration, and then we'll compare four confidence calibration improvemente techniques."
      ]
    },
    {
      "cell_type": "markdown",
      "id": "f2c29610",
      "metadata": {
        "id": "f2c29610"
      },
      "source": [
        "## Set Up - Dataset\n",
        "For this demo, the set up is relatively simple. First we'll get a few pip packages installed and then get our [License Plate Recognition dataset](https://universe.roboflow.com/roboflow-universe-projects/license-plate-recognition-rxg4e/dataset/1) from roboflow universe. If you're not familiar with roboflow, the platform makes working with datasets of all types incredibly easy."
      ]
    },
    {
      "cell_type": "code",
      "execution_count": null,
      "id": "b0444c85",
      "metadata": {
        "colab": {
          "base_uri": "https://localhost:8080/"
        },
        "id": "b0444c85",
        "outputId": "714d7a12-8586-477a-b82b-dd4a4b81144f"
      },
      "outputs": [
        {
          "name": "stdout",
          "output_type": "stream",
          "text": [
            "Collecting roboflow\n",
            "  Downloading roboflow-1.2.7-py3-none-any.whl.metadata (9.7 kB)\n",
            "Requirement already satisfied: certifi in /usr/local/lib/python3.12/dist-packages (from roboflow) (2025.8.3)\n",
            "Collecting idna==3.7 (from roboflow)\n",
            "  Downloading idna-3.7-py3-none-any.whl.metadata (9.9 kB)\n",
            "Requirement already satisfied: cycler in /usr/local/lib/python3.12/dist-packages (from roboflow) (0.12.1)\n",
            "Requirement already satisfied: kiwisolver>=1.3.1 in /usr/local/lib/python3.12/dist-packages (from roboflow) (1.4.9)\n",
            "Requirement already satisfied: matplotlib in /usr/local/lib/python3.12/dist-packages (from roboflow) (3.10.0)\n",
            "Requirement already satisfied: numpy>=1.18.5 in /usr/local/lib/python3.12/dist-packages (from roboflow) (2.0.2)\n",
            "Collecting opencv-python-headless==4.10.0.84 (from roboflow)\n",
            "  Downloading opencv_python_headless-4.10.0.84-cp37-abi3-manylinux_2_17_x86_64.manylinux2014_x86_64.whl.metadata (20 kB)\n",
            "Requirement already satisfied: Pillow>=7.1.2 in /usr/local/lib/python3.12/dist-packages (from roboflow) (11.3.0)\n",
            "Collecting pi-heif<2 (from roboflow)\n",
            "  Downloading pi_heif-1.1.0-cp312-cp312-manylinux_2_27_x86_64.manylinux_2_28_x86_64.whl.metadata (6.5 kB)\n",
            "Collecting pillow-avif-plugin<2 (from roboflow)\n",
            "  Downloading pillow_avif_plugin-1.5.2-cp312-cp312-manylinux_2_28_x86_64.whl.metadata (2.1 kB)\n",
            "Requirement already satisfied: python-dateutil in /usr/local/lib/python3.12/dist-packages (from roboflow) (2.9.0.post0)\n",
            "Requirement already satisfied: python-dotenv in /usr/local/lib/python3.12/dist-packages (from roboflow) (1.1.1)\n",
            "Requirement already satisfied: requests in /usr/local/lib/python3.12/dist-packages (from roboflow) (2.32.4)\n",
            "Requirement already satisfied: six in /usr/local/lib/python3.12/dist-packages (from roboflow) (1.17.0)\n",
            "Requirement already satisfied: urllib3>=1.26.6 in /usr/local/lib/python3.12/dist-packages (from roboflow) (2.5.0)\n",
            "Requirement already satisfied: tqdm>=4.41.0 in /usr/local/lib/python3.12/dist-packages (from roboflow) (4.67.1)\n",
            "Requirement already satisfied: PyYAML>=5.3.1 in /usr/local/lib/python3.12/dist-packages (from roboflow) (6.0.2)\n",
            "Requirement already satisfied: requests-toolbelt in /usr/local/lib/python3.12/dist-packages (from roboflow) (1.0.0)\n",
            "Collecting filetype (from roboflow)\n",
            "  Downloading filetype-1.2.0-py2.py3-none-any.whl.metadata (6.5 kB)\n",
            "Requirement already satisfied: contourpy>=1.0.1 in /usr/local/lib/python3.12/dist-packages (from matplotlib->roboflow) (1.3.3)\n",
            "Requirement already satisfied: fonttools>=4.22.0 in /usr/local/lib/python3.12/dist-packages (from matplotlib->roboflow) (4.59.2)\n",
            "Requirement already satisfied: packaging>=20.0 in /usr/local/lib/python3.12/dist-packages (from matplotlib->roboflow) (25.0)\n",
            "Requirement already satisfied: pyparsing>=2.3.1 in /usr/local/lib/python3.12/dist-packages (from matplotlib->roboflow) (3.2.3)\n",
            "Requirement already satisfied: charset_normalizer<4,>=2 in /usr/local/lib/python3.12/dist-packages (from requests->roboflow) (3.4.3)\n",
            "Downloading roboflow-1.2.7-py3-none-any.whl (88 kB)\n",
            "\u001b[2K   \u001b[90m━━━━━━━━━━━━━━━━━━━━━━━━━━━━━━━━━━━━━━━━\u001b[0m \u001b[32m88.6/88.6 kB\u001b[0m \u001b[31m4.0 MB/s\u001b[0m eta \u001b[36m0:00:00\u001b[0m\n",
            "\u001b[?25hDownloading idna-3.7-py3-none-any.whl (66 kB)\n",
            "\u001b[2K   \u001b[90m━━━━━━━━━━━━━━━━━━━━━━━━━━━━━━━━━━━━━━━━\u001b[0m \u001b[32m66.8/66.8 kB\u001b[0m \u001b[31m6.5 MB/s\u001b[0m eta \u001b[36m0:00:00\u001b[0m\n",
            "\u001b[?25hDownloading opencv_python_headless-4.10.0.84-cp37-abi3-manylinux_2_17_x86_64.manylinux2014_x86_64.whl (49.9 MB)\n",
            "\u001b[2K   \u001b[90m━━━━━━━━━━━━━━━━━━━━━━━━━━━━━━━━━━━━━━━━\u001b[0m \u001b[32m49.9/49.9 MB\u001b[0m \u001b[31m16.0 MB/s\u001b[0m eta \u001b[36m0:00:00\u001b[0m\n",
            "\u001b[?25hDownloading pi_heif-1.1.0-cp312-cp312-manylinux_2_27_x86_64.manylinux_2_28_x86_64.whl (1.4 MB)\n",
            "\u001b[2K   \u001b[90m━━━━━━━━━━━━━━━━━━━━━━━━━━━━━━━━━━━━━━━━\u001b[0m \u001b[32m1.4/1.4 MB\u001b[0m \u001b[31m48.8 MB/s\u001b[0m eta \u001b[36m0:00:00\u001b[0m\n",
            "\u001b[?25hDownloading pillow_avif_plugin-1.5.2-cp312-cp312-manylinux_2_28_x86_64.whl (4.2 MB)\n",
            "\u001b[2K   \u001b[90m━━━━━━━━━━━━━━━━━━━━━━━━━━━━━━━━━━━━━━━━\u001b[0m \u001b[32m4.2/4.2 MB\u001b[0m \u001b[31m68.1 MB/s\u001b[0m eta \u001b[36m0:00:00\u001b[0m\n",
            "\u001b[?25hDownloading filetype-1.2.0-py2.py3-none-any.whl (19 kB)\n",
            "Installing collected packages: pillow-avif-plugin, filetype, pi-heif, opencv-python-headless, idna, roboflow\n",
            "  Attempting uninstall: opencv-python-headless\n",
            "    Found existing installation: opencv-python-headless 4.12.0.88\n",
            "    Uninstalling opencv-python-headless-4.12.0.88:\n",
            "      Successfully uninstalled opencv-python-headless-4.12.0.88\n",
            "  Attempting uninstall: idna\n",
            "    Found existing installation: idna 3.10\n",
            "    Uninstalling idna-3.10:\n",
            "      Successfully uninstalled idna-3.10\n",
            "Successfully installed filetype-1.2.0 idna-3.7 opencv-python-headless-4.10.0.84 pi-heif-1.1.0 pillow-avif-plugin-1.5.2 roboflow-1.2.7\n",
            "Collecting supervision\n",
            "  Downloading supervision-0.26.1-py3-none-any.whl.metadata (13 kB)\n",
            "Requirement already satisfied: numpy>=1.21.2 in /usr/local/lib/python3.12/dist-packages (from supervision) (2.0.2)\n",
            "Requirement already satisfied: scipy>=1.10.0 in /usr/local/lib/python3.12/dist-packages (from supervision) (1.16.1)\n",
            "Requirement already satisfied: matplotlib>=3.6.0 in /usr/local/lib/python3.12/dist-packages (from supervision) (3.10.0)\n",
            "Requirement already satisfied: pyyaml>=5.3 in /usr/local/lib/python3.12/dist-packages (from supervision) (6.0.2)\n",
            "Requirement already satisfied: defusedxml>=0.7.1 in /usr/local/lib/python3.12/dist-packages (from supervision) (0.7.1)\n",
            "Requirement already satisfied: pillow>=9.4 in /usr/local/lib/python3.12/dist-packages (from supervision) (11.3.0)\n",
            "Requirement already satisfied: requests>=2.26.0 in /usr/local/lib/python3.12/dist-packages (from supervision) (2.32.4)\n",
            "Requirement already satisfied: tqdm>=4.62.3 in /usr/local/lib/python3.12/dist-packages (from supervision) (4.67.1)\n",
            "Requirement already satisfied: opencv-python>=4.5.5.64 in /usr/local/lib/python3.12/dist-packages (from supervision) (4.12.0.88)\n",
            "Requirement already satisfied: contourpy>=1.0.1 in /usr/local/lib/python3.12/dist-packages (from matplotlib>=3.6.0->supervision) (1.3.3)\n",
            "Requirement already satisfied: cycler>=0.10 in /usr/local/lib/python3.12/dist-packages (from matplotlib>=3.6.0->supervision) (0.12.1)\n",
            "Requirement already satisfied: fonttools>=4.22.0 in /usr/local/lib/python3.12/dist-packages (from matplotlib>=3.6.0->supervision) (4.59.2)\n",
            "Requirement already satisfied: kiwisolver>=1.3.1 in /usr/local/lib/python3.12/dist-packages (from matplotlib>=3.6.0->supervision) (1.4.9)\n",
            "Requirement already satisfied: packaging>=20.0 in /usr/local/lib/python3.12/dist-packages (from matplotlib>=3.6.0->supervision) (25.0)\n",
            "Requirement already satisfied: pyparsing>=2.3.1 in /usr/local/lib/python3.12/dist-packages (from matplotlib>=3.6.0->supervision) (3.2.3)\n",
            "Requirement already satisfied: python-dateutil>=2.7 in /usr/local/lib/python3.12/dist-packages (from matplotlib>=3.6.0->supervision) (2.9.0.post0)\n",
            "Requirement already satisfied: charset_normalizer<4,>=2 in /usr/local/lib/python3.12/dist-packages (from requests>=2.26.0->supervision) (3.4.3)\n",
            "Requirement already satisfied: idna<4,>=2.5 in /usr/local/lib/python3.12/dist-packages (from requests>=2.26.0->supervision) (3.7)\n",
            "Requirement already satisfied: urllib3<3,>=1.21.1 in /usr/local/lib/python3.12/dist-packages (from requests>=2.26.0->supervision) (2.5.0)\n",
            "Requirement already satisfied: certifi>=2017.4.17 in /usr/local/lib/python3.12/dist-packages (from requests>=2.26.0->supervision) (2025.8.3)\n",
            "Requirement already satisfied: six>=1.5 in /usr/local/lib/python3.12/dist-packages (from python-dateutil>=2.7->matplotlib>=3.6.0->supervision) (1.17.0)\n",
            "Downloading supervision-0.26.1-py3-none-any.whl (207 kB)\n",
            "\u001b[2K   \u001b[90m━━━━━━━━━━━━━━━━━━━━━━━━━━━━━━━━━━━━━━━━\u001b[0m \u001b[32m207.2/207.2 kB\u001b[0m \u001b[31m8.0 MB/s\u001b[0m eta \u001b[36m0:00:00\u001b[0m\n",
            "\u001b[?25hInstalling collected packages: supervision\n",
            "Successfully installed supervision-0.26.1\n"
          ]
        }
      ],
      "source": [
        "# Install pip packages\n",
        "!pip install roboflow\n",
        "!pip install supervision"
      ]
    },
    {
      "cell_type": "markdown",
      "id": "FiM6KveEIz66",
      "metadata": {
        "id": "FiM6KveEIz66"
      },
      "source": [
        "#### Because of conflicting package installations you'll need to start the environment"
      ]
    },
    {
      "cell_type": "code",
      "execution_count": null,
      "id": "X4MhVCA2t8if",
      "metadata": {
        "colab": {
          "base_uri": "https://localhost:8080/",
          "height": 1000
        },
        "id": "X4MhVCA2t8if",
        "outputId": "75568f48-5b07-4a23-8c8e-63529fbc055e"
      },
      "outputs": [
        {
          "name": "stdout",
          "output_type": "stream",
          "text": [
            "Collecting inference\n",
            "  Downloading inference-0.54.2-py3-none-any.whl.metadata (24 kB)\n",
            "Collecting aiortc~=1.9.0 (from inference)\n",
            "  Downloading aiortc-1.9.0-cp38-abi3-manylinux_2_17_x86_64.manylinux2014_x86_64.whl.metadata (5.5 kB)\n",
            "Collecting APScheduler<4.0.0,>=3.10.1 (from inference)\n",
            "  Downloading APScheduler-3.11.0-py3-none-any.whl.metadata (6.4 kB)\n",
            "Collecting asyncua~=1.1.5 (from inference)\n",
            "  Downloading asyncua-1.1.8-py3-none-any.whl.metadata (9.6 kB)\n",
            "Requirement already satisfied: cachetools<6.0.0 in /usr/local/lib/python3.12/dist-packages (from inference) (5.5.2)\n",
            "Requirement already satisfied: cython~=3.0.0 in /usr/local/lib/python3.12/dist-packages (from inference) (3.0.12)\n",
            "Collecting python-dotenv~=1.0.0 (from inference)\n",
            "  Downloading python_dotenv-1.0.1-py3-none-any.whl.metadata (23 kB)\n",
            "Collecting fastapi<0.116,>=0.100 (from inference)\n",
            "  Downloading fastapi-0.115.14-py3-none-any.whl.metadata (27 kB)\n",
            "Requirement already satisfied: numpy<2.3.0,>=2.0.0 in /usr/local/lib/python3.12/dist-packages (from inference) (2.0.2)\n",
            "Collecting opencv-python<=4.10.0.84,>=4.8.1.78 (from inference)\n",
            "  Downloading opencv_python-4.10.0.84-cp37-abi3-manylinux_2_17_x86_64.manylinux2014_x86_64.whl.metadata (20 kB)\n",
            "Collecting opencv-contrib-python<=4.10.0.84,>=4.8.1.78 (from inference)\n",
            "  Downloading opencv_contrib_python-4.10.0.84-cp37-abi3-manylinux_2_17_x86_64.manylinux2014_x86_64.whl.metadata (20 kB)\n",
            "Requirement already satisfied: pillow<12.0,>=11.0 in /usr/local/lib/python3.12/dist-packages (from inference) (11.3.0)\n",
            "Collecting prometheus-fastapi-instrumentator<=6.0.0 (from inference)\n",
            "  Downloading prometheus_fastapi_instrumentator-6.0.0-py3-none-any.whl.metadata (13 kB)\n",
            "Collecting redis~=5.0.0 (from inference)\n",
            "  Downloading redis-5.0.8-py3-none-any.whl.metadata (9.2 kB)\n",
            "Requirement already satisfied: requests<3.0.0,>=2.32.0 in /usr/local/lib/python3.12/dist-packages (from inference) (2.32.4)\n",
            "Requirement already satisfied: rich<13.10.0,>=13.0.0 in /usr/local/lib/python3.12/dist-packages (from inference) (13.9.4)\n",
            "Requirement already satisfied: supervision>=0.26 in /usr/local/lib/python3.12/dist-packages (from inference) (0.26.1)\n",
            "Collecting pybase64~=1.0.0 (from inference)\n",
            "  Downloading pybase64-1.0.2.tar.gz (105 kB)\n",
            "\u001b[2K     \u001b[90m━━━━━━━━━━━━━━━━━━━━━━━━━━━━━━━━━━━━━━━\u001b[0m \u001b[32m105.7/105.7 kB\u001b[0m \u001b[31m9.9 MB/s\u001b[0m eta \u001b[36m0:00:00\u001b[0m\n",
            "\u001b[?25h  Installing build dependencies ... \u001b[?25l\u001b[?25hdone\n",
            "  Getting requirements to build wheel ... \u001b[?25l\u001b[?25hdone\n",
            "  Preparing metadata (pyproject.toml) ... \u001b[?25l\u001b[?25hdone\n",
            "Requirement already satisfied: scikit-image<=0.25.2,>=0.19.0 in /usr/local/lib/python3.12/dist-packages (from inference) (0.25.2)\n",
            "Requirement already satisfied: requests-toolbelt~=1.0.0 in /usr/local/lib/python3.12/dist-packages (from inference) (1.0.0)\n",
            "Requirement already satisfied: wheel<=0.45.1,>=0.38.1 in /usr/local/lib/python3.12/dist-packages (from inference) (0.45.1)\n",
            "Requirement already satisfied: setuptools>=70.0.0 in /usr/local/lib/python3.12/dist-packages (from inference) (75.2.0)\n",
            "Requirement already satisfied: networkx<4.0.0,>=3.0.0 in /usr/local/lib/python3.12/dist-packages (from inference) (3.5)\n",
            "Requirement already satisfied: pydantic<2.12.0,>=2.8.0 in /usr/local/lib/python3.12/dist-packages (from inference) (2.11.7)\n",
            "Collecting pydantic-settings<2.8 (from inference)\n",
            "  Downloading pydantic_settings-2.7.1-py3-none-any.whl.metadata (3.5 kB)\n",
            "Requirement already satisfied: openai<2.0.0,>=1.12.0 in /usr/local/lib/python3.12/dist-packages (from inference) (1.104.2)\n",
            "Collecting structlog<25.0.0,>=24.1.0 (from inference)\n",
            "  Downloading structlog-24.4.0-py3-none-any.whl.metadata (7.3 kB)\n",
            "Collecting zxing-cpp~=2.2.0 (from inference)\n",
            "  Downloading zxing_cpp-2.2.0-cp312-cp312-manylinux_2_17_x86_64.manylinux2014_x86_64.whl.metadata (1.9 kB)\n",
            "Collecting boto3<=1.35.60 (from inference)\n",
            "  Downloading boto3-1.35.60-py3-none-any.whl.metadata (6.7 kB)\n",
            "Collecting typing_extensions<=4.12.2,>=4.8.0 (from inference)\n",
            "  Downloading typing_extensions-4.12.2-py3-none-any.whl.metadata (3.0 kB)\n",
            "Collecting pydot~=2.0.0 (from inference)\n",
            "  Downloading pydot-2.0.0-py3-none-any.whl.metadata (9.6 kB)\n",
            "Collecting shapely<2.1.0,>=2.0.4 (from inference)\n",
            "  Downloading shapely-2.0.7-cp312-cp312-manylinux_2_17_x86_64.manylinux2014_x86_64.whl.metadata (6.8 kB)\n",
            "Collecting tldextract~=5.1.2 (from inference)\n",
            "  Downloading tldextract-5.1.3-py3-none-any.whl.metadata (11 kB)\n",
            "Collecting packaging~=24.0 (from inference)\n",
            "  Downloading packaging-24.2-py3-none-any.whl.metadata (3.2 kB)\n",
            "Collecting anthropic~=0.49.0 (from inference)\n",
            "  Downloading anthropic-0.49.0-py3-none-any.whl.metadata (24 kB)\n",
            "Collecting pandas<3.0.0,>=2.2.3 (from inference)\n",
            "  Downloading pandas-2.3.2-cp312-cp312-manylinux_2_17_x86_64.manylinux2014_x86_64.whl.metadata (91 kB)\n",
            "\u001b[2K     \u001b[90m━━━━━━━━━━━━━━━━━━━━━━━━━━━━━━━━━━━━━━━━\u001b[0m \u001b[32m91.2/91.2 kB\u001b[0m \u001b[31m8.3 MB/s\u001b[0m eta \u001b[36m0:00:00\u001b[0m\n",
            "\u001b[?25hCollecting paho-mqtt~=1.6.1 (from inference)\n",
            "  Downloading paho-mqtt-1.6.1.tar.gz (99 kB)\n",
            "\u001b[2K     \u001b[90m━━━━━━━━━━━━━━━━━━━━━━━━━━━━━━━━━━━━━━━━\u001b[0m \u001b[32m99.4/99.4 kB\u001b[0m \u001b[31m10.1 MB/s\u001b[0m eta \u001b[36m0:00:00\u001b[0m\n",
            "\u001b[?25h  Preparing metadata (setup.py) ... \u001b[?25l\u001b[?25hdone\n",
            "Requirement already satisfied: pytest<9.0.0,>=8.0.0 in /usr/local/lib/python3.12/dist-packages (from inference) (8.4.1)\n",
            "Collecting tokenizers<0.22.0,>=0.19.0 (from inference)\n",
            "  Downloading tokenizers-0.21.4-cp39-abi3-manylinux_2_17_x86_64.manylinux2014_x86_64.whl.metadata (6.7 kB)\n",
            "Collecting slack-sdk~=3.33.4 (from inference)\n",
            "  Downloading slack_sdk-3.33.5-py2.py3-none-any.whl.metadata (15 kB)\n",
            "Collecting twilio~=9.3.7 (from inference)\n",
            "  Downloading twilio-9.3.8-py2.py3-none-any.whl.metadata (12 kB)\n",
            "Requirement already satisfied: httpx~=0.28.1 in /usr/local/lib/python3.12/dist-packages (from inference) (0.28.1)\n",
            "Collecting pylogix==1.0.5 (from inference)\n",
            "  Downloading pylogix-1.0.5-py2.py3-none-any.whl.metadata (5.6 kB)\n",
            "Collecting pymodbus<=3.8.3,>=3.6.9 (from inference)\n",
            "  Downloading pymodbus-3.8.3-py3-none-any.whl.metadata (15 kB)\n",
            "Collecting backoff~=2.2.0 (from inference)\n",
            "  Downloading backoff-2.2.1-py3-none-any.whl.metadata (14 kB)\n",
            "Collecting filelock<=3.17.0,>=3.12.0 (from inference)\n",
            "  Downloading filelock-3.17.0-py3-none-any.whl.metadata (2.9 kB)\n",
            "Collecting onvif-zeep-async==2.0.0 (from inference)\n",
            "  Downloading onvif_zeep_async-2.0.0-py2.py3-none-any.whl.metadata (5.4 kB)\n",
            "Collecting simple-pid~=2.0.1 (from inference)\n",
            "  Downloading simple_pid-2.0.1-py3-none-any.whl.metadata (2.9 kB)\n",
            "Collecting qrcode~=8.0.0 (from inference)\n",
            "  Downloading qrcode-8.0-py3-none-any.whl.metadata (17 kB)\n",
            "Collecting onnxruntime<1.22.0,>=1.15.1 (from inference)\n",
            "  Downloading onnxruntime-1.21.1-cp312-cp312-manylinux_2_27_x86_64.manylinux_2_28_x86_64.whl.metadata (4.7 kB)\n",
            "Requirement already satisfied: nvidia-ml-py<13.0.0 in /usr/local/lib/python3.12/dist-packages (from inference) (12.575.51)\n",
            "Collecting docker<8.0.0,>=7.0.0 (from inference)\n",
            "  Downloading docker-7.1.0-py3-none-any.whl.metadata (3.8 kB)\n",
            "Collecting click<8.2.0 (from inference)\n",
            "  Downloading click-8.1.8-py3-none-any.whl.metadata (2.3 kB)\n",
            "Collecting typer<=0.16.0,>=0.9.0 (from inference)\n",
            "  Downloading typer-0.16.0-py3-none-any.whl.metadata (15 kB)\n",
            "Requirement already satisfied: PyYAML~=6.0.0 in /usr/local/lib/python3.12/dist-packages (from inference) (6.0.2)\n",
            "Requirement already satisfied: tqdm<5.0.0,>=4.0.0 in /usr/local/lib/python3.12/dist-packages (from inference) (4.67.1)\n",
            "Requirement already satisfied: py-cpuinfo~=9.0.0 in /usr/local/lib/python3.12/dist-packages (from inference) (9.0.0)\n",
            "Collecting aiohttp<=3.10.11,>=3.9.0 (from inference)\n",
            "  Downloading aiohttp-3.10.11-cp312-cp312-manylinux_2_17_x86_64.manylinux2014_x86_64.whl.metadata (7.7 kB)\n",
            "Collecting dataclasses-json~=0.6.0 (from inference)\n",
            "  Downloading dataclasses_json-0.6.7-py3-none-any.whl.metadata (25 kB)\n",
            "Collecting zeep<5.0.0,>=4.2.1 (from zeep[async]<5.0.0,>=4.2.1->onvif-zeep-async==2.0.0->inference)\n",
            "  Downloading zeep-4.3.1-py3-none-any.whl.metadata (4.3 kB)\n",
            "Requirement already satisfied: aiohappyeyeballs>=2.3.0 in /usr/local/lib/python3.12/dist-packages (from aiohttp<=3.10.11,>=3.9.0->inference) (2.6.1)\n",
            "Requirement already satisfied: aiosignal>=1.1.2 in /usr/local/lib/python3.12/dist-packages (from aiohttp<=3.10.11,>=3.9.0->inference) (1.4.0)\n",
            "Requirement already satisfied: attrs>=17.3.0 in /usr/local/lib/python3.12/dist-packages (from aiohttp<=3.10.11,>=3.9.0->inference) (25.3.0)\n",
            "Requirement already satisfied: frozenlist>=1.1.1 in /usr/local/lib/python3.12/dist-packages (from aiohttp<=3.10.11,>=3.9.0->inference) (1.7.0)\n",
            "Requirement already satisfied: multidict<7.0,>=4.5 in /usr/local/lib/python3.12/dist-packages (from aiohttp<=3.10.11,>=3.9.0->inference) (6.6.4)\n",
            "Requirement already satisfied: yarl<2.0,>=1.12.0 in /usr/local/lib/python3.12/dist-packages (from aiohttp<=3.10.11,>=3.9.0->inference) (1.20.1)\n",
            "Collecting aioice<1.0.0,>=0.9.0 (from aiortc~=1.9.0->inference)\n",
            "  Downloading aioice-0.10.1-py3-none-any.whl.metadata (4.1 kB)\n",
            "Collecting av<13.0.0,>=9.0.0 (from aiortc~=1.9.0->inference)\n",
            "  Downloading av-12.3.0-cp312-cp312-manylinux_2_17_x86_64.manylinux2014_x86_64.whl.metadata (4.6 kB)\n",
            "Requirement already satisfied: cffi>=1.0.0 in /usr/local/lib/python3.12/dist-packages (from aiortc~=1.9.0->inference) (1.17.1)\n",
            "Requirement already satisfied: cryptography>=42.0.0 in /usr/local/lib/python3.12/dist-packages (from aiortc~=1.9.0->inference) (43.0.3)\n",
            "Requirement already satisfied: google-crc32c>=1.1 in /usr/local/lib/python3.12/dist-packages (from aiortc~=1.9.0->inference) (1.7.1)\n",
            "Collecting pyee>=9.0.0 (from aiortc~=1.9.0->inference)\n",
            "  Downloading pyee-13.0.0-py3-none-any.whl.metadata (2.9 kB)\n",
            "Collecting pylibsrtp>=0.10.0 (from aiortc~=1.9.0->inference)\n",
            "  Downloading pylibsrtp-0.12.0-cp39-abi3-manylinux_2_17_x86_64.manylinux2014_x86_64.whl.metadata (4.1 kB)\n",
            "Requirement already satisfied: pyopenssl>=24.0.0 in /usr/local/lib/python3.12/dist-packages (from aiortc~=1.9.0->inference) (24.2.1)\n",
            "Requirement already satisfied: anyio<5,>=3.5.0 in /usr/local/lib/python3.12/dist-packages (from anthropic~=0.49.0->inference) (4.10.0)\n",
            "Requirement already satisfied: distro<2,>=1.7.0 in /usr/local/lib/python3.12/dist-packages (from anthropic~=0.49.0->inference) (1.9.0)\n",
            "Requirement already satisfied: jiter<1,>=0.4.0 in /usr/local/lib/python3.12/dist-packages (from anthropic~=0.49.0->inference) (0.10.0)\n",
            "Requirement already satisfied: sniffio in /usr/local/lib/python3.12/dist-packages (from anthropic~=0.49.0->inference) (1.3.1)\n",
            "Requirement already satisfied: tzlocal>=3.0 in /usr/local/lib/python3.12/dist-packages (from APScheduler<4.0.0,>=3.10.1->inference) (5.3.1)\n",
            "Requirement already satisfied: aiofiles in /usr/local/lib/python3.12/dist-packages (from asyncua~=1.1.5->inference) (24.1.0)\n",
            "Collecting aiosqlite (from asyncua~=1.1.5->inference)\n",
            "  Downloading aiosqlite-0.21.0-py3-none-any.whl.metadata (4.3 kB)\n",
            "Requirement already satisfied: python-dateutil in /usr/local/lib/python3.12/dist-packages (from asyncua~=1.1.5->inference) (2.9.0.post0)\n",
            "Requirement already satisfied: pytz in /usr/local/lib/python3.12/dist-packages (from asyncua~=1.1.5->inference) (2025.2)\n",
            "Requirement already satisfied: sortedcontainers in /usr/local/lib/python3.12/dist-packages (from asyncua~=1.1.5->inference) (2.4.0)\n",
            "Collecting botocore<1.36.0,>=1.35.60 (from boto3<=1.35.60->inference)\n",
            "  Downloading botocore-1.35.99-py3-none-any.whl.metadata (5.7 kB)\n",
            "Collecting jmespath<2.0.0,>=0.7.1 (from boto3<=1.35.60->inference)\n",
            "  Downloading jmespath-1.0.1-py3-none-any.whl.metadata (7.6 kB)\n",
            "Collecting s3transfer<0.11.0,>=0.10.0 (from boto3<=1.35.60->inference)\n",
            "  Downloading s3transfer-0.10.4-py3-none-any.whl.metadata (1.7 kB)\n",
            "Collecting marshmallow<4.0.0,>=3.18.0 (from dataclasses-json~=0.6.0->inference)\n",
            "  Downloading marshmallow-3.26.1-py3-none-any.whl.metadata (7.3 kB)\n",
            "Collecting typing-inspect<1,>=0.4.0 (from dataclasses-json~=0.6.0->inference)\n",
            "  Downloading typing_inspect-0.9.0-py3-none-any.whl.metadata (1.5 kB)\n",
            "Requirement already satisfied: urllib3>=1.26.0 in /usr/local/lib/python3.12/dist-packages (from docker<8.0.0,>=7.0.0->inference) (2.5.0)\n",
            "Collecting starlette<0.47.0,>=0.40.0 (from fastapi<0.116,>=0.100->inference)\n",
            "  Downloading starlette-0.46.2-py3-none-any.whl.metadata (6.2 kB)\n",
            "Requirement already satisfied: certifi in /usr/local/lib/python3.12/dist-packages (from httpx~=0.28.1->inference) (2025.8.3)\n",
            "Requirement already satisfied: httpcore==1.* in /usr/local/lib/python3.12/dist-packages (from httpx~=0.28.1->inference) (1.0.9)\n",
            "Requirement already satisfied: idna in /usr/local/lib/python3.12/dist-packages (from httpx~=0.28.1->inference) (3.7)\n",
            "Requirement already satisfied: h11>=0.16 in /usr/local/lib/python3.12/dist-packages (from httpcore==1.*->httpx~=0.28.1->inference) (0.16.0)\n",
            "Collecting coloredlogs (from onnxruntime<1.22.0,>=1.15.1->inference)\n",
            "  Downloading coloredlogs-15.0.1-py2.py3-none-any.whl.metadata (12 kB)\n",
            "Requirement already satisfied: flatbuffers in /usr/local/lib/python3.12/dist-packages (from onnxruntime<1.22.0,>=1.15.1->inference) (25.2.10)\n",
            "Requirement already satisfied: protobuf in /usr/local/lib/python3.12/dist-packages (from onnxruntime<1.22.0,>=1.15.1->inference) (5.29.5)\n",
            "Requirement already satisfied: sympy in /usr/local/lib/python3.12/dist-packages (from onnxruntime<1.22.0,>=1.15.1->inference) (1.13.3)\n",
            "Requirement already satisfied: tzdata>=2022.7 in /usr/local/lib/python3.12/dist-packages (from pandas<3.0.0,>=2.2.3->inference) (2025.2)\n",
            "Requirement already satisfied: prometheus-client<1.0.0,>=0.8.0 in /usr/local/lib/python3.12/dist-packages (from prometheus-fastapi-instrumentator<=6.0.0->inference) (0.22.1)\n",
            "Requirement already satisfied: annotated-types>=0.6.0 in /usr/local/lib/python3.12/dist-packages (from pydantic<2.12.0,>=2.8.0->inference) (0.7.0)\n",
            "Requirement already satisfied: pydantic-core==2.33.2 in /usr/local/lib/python3.12/dist-packages (from pydantic<2.12.0,>=2.8.0->inference) (2.33.2)\n",
            "Requirement already satisfied: typing-inspection>=0.4.0 in /usr/local/lib/python3.12/dist-packages (from pydantic<2.12.0,>=2.8.0->inference) (0.4.1)\n",
            "Requirement already satisfied: pyparsing>=3 in /usr/local/lib/python3.12/dist-packages (from pydot~=2.0.0->inference) (3.2.3)\n",
            "Requirement already satisfied: iniconfig>=1 in /usr/local/lib/python3.12/dist-packages (from pytest<9.0.0,>=8.0.0->inference) (2.1.0)\n",
            "Requirement already satisfied: pluggy<2,>=1.5 in /usr/local/lib/python3.12/dist-packages (from pytest<9.0.0,>=8.0.0->inference) (1.6.0)\n",
            "Requirement already satisfied: pygments>=2.7.2 in /usr/local/lib/python3.12/dist-packages (from pytest<9.0.0,>=8.0.0->inference) (2.19.2)\n",
            "Requirement already satisfied: charset_normalizer<4,>=2 in /usr/local/lib/python3.12/dist-packages (from requests<3.0.0,>=2.32.0->inference) (3.4.3)\n",
            "Requirement already satisfied: markdown-it-py>=2.2.0 in /usr/local/lib/python3.12/dist-packages (from rich<13.10.0,>=13.0.0->inference) (4.0.0)\n",
            "Requirement already satisfied: scipy>=1.11.4 in /usr/local/lib/python3.12/dist-packages (from scikit-image<=0.25.2,>=0.19.0->inference) (1.16.1)\n",
            "Requirement already satisfied: imageio!=2.35.0,>=2.33 in /usr/local/lib/python3.12/dist-packages (from scikit-image<=0.25.2,>=0.19.0->inference) (2.37.0)\n",
            "Requirement already satisfied: tifffile>=2022.8.12 in /usr/local/lib/python3.12/dist-packages (from scikit-image<=0.25.2,>=0.19.0->inference) (2025.8.28)\n",
            "Requirement already satisfied: lazy-loader>=0.4 in /usr/local/lib/python3.12/dist-packages (from scikit-image<=0.25.2,>=0.19.0->inference) (0.4)\n",
            "Requirement already satisfied: matplotlib>=3.6.0 in /usr/local/lib/python3.12/dist-packages (from supervision>=0.26->inference) (3.10.0)\n",
            "Requirement already satisfied: defusedxml>=0.7.1 in /usr/local/lib/python3.12/dist-packages (from supervision>=0.26->inference) (0.7.1)\n",
            "Collecting requests-file>=1.4 (from tldextract~=5.1.2->inference)\n",
            "  Downloading requests_file-2.1.0-py2.py3-none-any.whl.metadata (1.7 kB)\n",
            "Requirement already satisfied: huggingface-hub<1.0,>=0.16.4 in /usr/local/lib/python3.12/dist-packages (from tokenizers<0.22.0,>=0.19.0->inference) (0.34.4)\n",
            "Requirement already satisfied: PyJWT<3.0.0,>=2.0.0 in /usr/local/lib/python3.12/dist-packages (from twilio~=9.3.7->inference) (2.10.1)\n",
            "Collecting aiohttp-retry==2.8.3 (from twilio~=9.3.7->inference)\n",
            "  Downloading aiohttp_retry-2.8.3-py3-none-any.whl.metadata (8.9 kB)\n",
            "Requirement already satisfied: shellingham>=1.3.0 in /usr/local/lib/python3.12/dist-packages (from typer<=0.16.0,>=0.9.0->inference) (1.5.4)\n",
            "Collecting dnspython>=2.0.0 (from aioice<1.0.0,>=0.9.0->aiortc~=1.9.0->inference)\n",
            "  Downloading dnspython-2.8.0-py3-none-any.whl.metadata (5.7 kB)\n",
            "Collecting ifaddr>=0.2.0 (from aioice<1.0.0,>=0.9.0->aiortc~=1.9.0->inference)\n",
            "  Downloading ifaddr-0.2.0-py3-none-any.whl.metadata (4.9 kB)\n",
            "Requirement already satisfied: pycparser in /usr/local/lib/python3.12/dist-packages (from cffi>=1.0.0->aiortc~=1.9.0->inference) (2.22)\n",
            "Requirement already satisfied: fsspec>=2023.5.0 in /usr/local/lib/python3.12/dist-packages (from huggingface-hub<1.0,>=0.16.4->tokenizers<0.22.0,>=0.19.0->inference) (2025.3.0)\n",
            "Requirement already satisfied: hf-xet<2.0.0,>=1.1.3 in /usr/local/lib/python3.12/dist-packages (from huggingface-hub<1.0,>=0.16.4->tokenizers<0.22.0,>=0.19.0->inference) (1.1.9)\n",
            "Requirement already satisfied: mdurl~=0.1 in /usr/local/lib/python3.12/dist-packages (from markdown-it-py>=2.2.0->rich<13.10.0,>=13.0.0->inference) (0.1.2)\n",
            "Requirement already satisfied: contourpy>=1.0.1 in /usr/local/lib/python3.12/dist-packages (from matplotlib>=3.6.0->supervision>=0.26->inference) (1.3.3)\n",
            "Requirement already satisfied: cycler>=0.10 in /usr/local/lib/python3.12/dist-packages (from matplotlib>=3.6.0->supervision>=0.26->inference) (0.12.1)\n",
            "Requirement already satisfied: fonttools>=4.22.0 in /usr/local/lib/python3.12/dist-packages (from matplotlib>=3.6.0->supervision>=0.26->inference) (4.59.2)\n",
            "Requirement already satisfied: kiwisolver>=1.3.1 in /usr/local/lib/python3.12/dist-packages (from matplotlib>=3.6.0->supervision>=0.26->inference) (1.4.9)\n",
            "Requirement already satisfied: six>=1.5 in /usr/local/lib/python3.12/dist-packages (from python-dateutil->asyncua~=1.1.5->inference) (1.17.0)\n",
            "Collecting mypy-extensions>=0.3.0 (from typing-inspect<1,>=0.4.0->dataclasses-json~=0.6.0->inference)\n",
            "  Downloading mypy_extensions-1.1.0-py3-none-any.whl.metadata (1.1 kB)\n",
            "Requirement already satisfied: propcache>=0.2.1 in /usr/local/lib/python3.12/dist-packages (from yarl<2.0,>=1.12.0->aiohttp<=3.10.11,>=3.9.0->inference) (0.3.2)\n",
            "Collecting isodate>=0.5.4 (from zeep<5.0.0,>=4.2.1->zeep[async]<5.0.0,>=4.2.1->onvif-zeep-async==2.0.0->inference)\n",
            "  Downloading isodate-0.7.2-py3-none-any.whl.metadata (11 kB)\n",
            "Requirement already satisfied: lxml>=4.6.0 in /usr/local/lib/python3.12/dist-packages (from zeep<5.0.0,>=4.2.1->zeep[async]<5.0.0,>=4.2.1->onvif-zeep-async==2.0.0->inference) (5.4.0)\n",
            "Requirement already satisfied: platformdirs>=1.4.0 in /usr/local/lib/python3.12/dist-packages (from zeep<5.0.0,>=4.2.1->zeep[async]<5.0.0,>=4.2.1->onvif-zeep-async==2.0.0->inference) (4.4.0)\n",
            "Collecting humanfriendly>=9.1 (from coloredlogs->onnxruntime<1.22.0,>=1.15.1->inference)\n",
            "  Downloading humanfriendly-10.0-py2.py3-none-any.whl.metadata (9.2 kB)\n",
            "Requirement already satisfied: mpmath<1.4,>=1.1.0 in /usr/local/lib/python3.12/dist-packages (from sympy->onnxruntime<1.22.0,>=1.15.1->inference) (1.3.0)\n",
            "Downloading inference-0.54.2-py3-none-any.whl (2.5 MB)\n",
            "\u001b[2K   \u001b[90m━━━━━━━━━━━━━━━━━━━━━━━━━━━━━━━━━━━━━━━━\u001b[0m \u001b[32m2.5/2.5 MB\u001b[0m \u001b[31m18.9 MB/s\u001b[0m eta \u001b[36m0:00:00\u001b[0m\n",
            "\u001b[?25hDownloading onvif_zeep_async-2.0.0-py2.py3-none-any.whl (190 kB)\n",
            "\u001b[2K   \u001b[90m━━━━━━━━━━━━━━━━━━━━━━━━━━━━━━━━━━━━━━━━\u001b[0m \u001b[32m190.1/190.1 kB\u001b[0m \u001b[31m18.1 MB/s\u001b[0m eta \u001b[36m0:00:00\u001b[0m\n",
            "\u001b[?25hDownloading pylogix-1.0.5-py2.py3-none-any.whl (75 kB)\n",
            "\u001b[2K   \u001b[90m━━━━━━━━━━━━━━━━━━━━━━━━━━━━━━━━━━━━━━━━\u001b[0m \u001b[32m75.9/75.9 kB\u001b[0m \u001b[31m7.3 MB/s\u001b[0m eta \u001b[36m0:00:00\u001b[0m\n",
            "\u001b[?25hDownloading aiohttp-3.10.11-cp312-cp312-manylinux_2_17_x86_64.manylinux2014_x86_64.whl (1.3 MB)\n",
            "\u001b[2K   \u001b[90m━━━━━━━━━━━━━━━━━━━━━━━━━━━━━━━━━━━━━━━━\u001b[0m \u001b[32m1.3/1.3 MB\u001b[0m \u001b[31m36.4 MB/s\u001b[0m eta \u001b[36m0:00:00\u001b[0m\n",
            "\u001b[?25hDownloading aiortc-1.9.0-cp38-abi3-manylinux_2_17_x86_64.manylinux2014_x86_64.whl (1.9 MB)\n",
            "\u001b[2K   \u001b[90m━━━━━━━━━━━━━━━━━━━━━━━━━━━━━━━━━━━━━━━━\u001b[0m \u001b[32m1.9/1.9 MB\u001b[0m \u001b[31m77.9 MB/s\u001b[0m eta \u001b[36m0:00:00\u001b[0m\n",
            "\u001b[?25hDownloading anthropic-0.49.0-py3-none-any.whl (243 kB)\n",
            "\u001b[2K   \u001b[90m━━━━━━━━━━━━━━━━━━━━━━━━━━━━━━━━━━━━━━━━\u001b[0m \u001b[32m243.4/243.4 kB\u001b[0m \u001b[31m22.5 MB/s\u001b[0m eta \u001b[36m0:00:00\u001b[0m\n",
            "\u001b[?25hDownloading APScheduler-3.11.0-py3-none-any.whl (64 kB)\n",
            "\u001b[2K   \u001b[90m━━━━━━━━━━━━━━━━━━━━━━━━━━━━━━━━━━━━━━━━\u001b[0m \u001b[32m64.0/64.0 kB\u001b[0m \u001b[31m6.1 MB/s\u001b[0m eta \u001b[36m0:00:00\u001b[0m\n",
            "\u001b[?25hDownloading asyncua-1.1.8-py3-none-any.whl (1.1 MB)\n",
            "\u001b[2K   \u001b[90m━━━━━━━━━━━━━━━━━━━━━━━━━━━━━━━━━━━━━━━━\u001b[0m \u001b[32m1.1/1.1 MB\u001b[0m \u001b[31m65.7 MB/s\u001b[0m eta \u001b[36m0:00:00\u001b[0m\n",
            "\u001b[?25hDownloading backoff-2.2.1-py3-none-any.whl (15 kB)\n",
            "Downloading boto3-1.35.60-py3-none-any.whl (139 kB)\n",
            "\u001b[2K   \u001b[90m━━━━━━━━━━━━━━━━━━━━━━━━━━━━━━━━━━━━━━━━\u001b[0m \u001b[32m139.2/139.2 kB\u001b[0m \u001b[31m13.6 MB/s\u001b[0m eta \u001b[36m0:00:00\u001b[0m\n",
            "\u001b[?25hDownloading click-8.1.8-py3-none-any.whl (98 kB)\n",
            "\u001b[2K   \u001b[90m━━━━━━━━━━━━━━━━━━━━━━━━━━━━━━━━━━━━━━━━\u001b[0m \u001b[32m98.2/98.2 kB\u001b[0m \u001b[31m10.5 MB/s\u001b[0m eta \u001b[36m0:00:00\u001b[0m\n",
            "\u001b[?25hDownloading dataclasses_json-0.6.7-py3-none-any.whl (28 kB)\n",
            "Downloading docker-7.1.0-py3-none-any.whl (147 kB)\n",
            "\u001b[2K   \u001b[90m━━━━━━━━━━━━━━━━━━━━━━━━━━━━━━━━━━━━━━━━\u001b[0m \u001b[32m147.8/147.8 kB\u001b[0m \u001b[31m14.5 MB/s\u001b[0m eta \u001b[36m0:00:00\u001b[0m\n",
            "\u001b[?25hDownloading fastapi-0.115.14-py3-none-any.whl (95 kB)\n",
            "\u001b[2K   \u001b[90m━━━━━━━━━━━━━━━━━━━━━━━━━━━━━━━━━━━━━━━━\u001b[0m \u001b[32m95.5/95.5 kB\u001b[0m \u001b[31m8.7 MB/s\u001b[0m eta \u001b[36m0:00:00\u001b[0m\n",
            "\u001b[?25hDownloading filelock-3.17.0-py3-none-any.whl (16 kB)\n",
            "Downloading onnxruntime-1.21.1-cp312-cp312-manylinux_2_27_x86_64.manylinux_2_28_x86_64.whl (16.0 MB)\n",
            "\u001b[2K   \u001b[90m━━━━━━━━━━━━━━━━━━━━━━━━━━━━━━━━━━━━━━━━\u001b[0m \u001b[32m16.0/16.0 MB\u001b[0m \u001b[31m53.2 MB/s\u001b[0m eta \u001b[36m0:00:00\u001b[0m\n",
            "\u001b[?25hDownloading opencv_contrib_python-4.10.0.84-cp37-abi3-manylinux_2_17_x86_64.manylinux2014_x86_64.whl (68.7 MB)\n",
            "\u001b[2K   \u001b[90m━━━━━━━━━━━━━━━━━━━━━━━━━━━━━━━━━━━━━━━━\u001b[0m \u001b[32m68.7/68.7 MB\u001b[0m \u001b[31m11.1 MB/s\u001b[0m eta \u001b[36m0:00:00\u001b[0m\n",
            "\u001b[?25hDownloading opencv_python-4.10.0.84-cp37-abi3-manylinux_2_17_x86_64.manylinux2014_x86_64.whl (62.5 MB)\n",
            "\u001b[2K   \u001b[90m━━━━━━━━━━━━━━━━━━━━━━━━━━━━━━━━━━━━━━━━\u001b[0m \u001b[32m62.5/62.5 MB\u001b[0m \u001b[31m12.6 MB/s\u001b[0m eta \u001b[36m0:00:00\u001b[0m\n",
            "\u001b[?25hDownloading packaging-24.2-py3-none-any.whl (65 kB)\n",
            "\u001b[2K   \u001b[90m━━━━━━━━━━━━━━━━━━━━━━━━━━━━━━━━━━━━━━━━\u001b[0m \u001b[32m65.5/65.5 kB\u001b[0m \u001b[31m6.1 MB/s\u001b[0m eta \u001b[36m0:00:00\u001b[0m\n",
            "\u001b[?25hDownloading pandas-2.3.2-cp312-cp312-manylinux_2_17_x86_64.manylinux2014_x86_64.whl (12.0 MB)\n",
            "\u001b[2K   \u001b[90m━━━━━━━━━━━━━━━━━━━━━━━━━━━━━━━━━━━━━━━━\u001b[0m \u001b[32m12.0/12.0 MB\u001b[0m \u001b[31m127.5 MB/s\u001b[0m eta \u001b[36m0:00:00\u001b[0m\n",
            "\u001b[?25hDownloading prometheus_fastapi_instrumentator-6.0.0-py3-none-any.whl (18 kB)\n",
            "Downloading pydantic_settings-2.7.1-py3-none-any.whl (29 kB)\n",
            "Downloading pydot-2.0.0-py3-none-any.whl (22 kB)\n",
            "Downloading pymodbus-3.8.3-py3-none-any.whl (160 kB)\n",
            "\u001b[2K   \u001b[90m━━━━━━━━━━━━━━━━━━━━━━━━━━━━━━━━━━━━━━━━\u001b[0m \u001b[32m160.7/160.7 kB\u001b[0m \u001b[31m17.3 MB/s\u001b[0m eta \u001b[36m0:00:00\u001b[0m\n",
            "\u001b[?25hDownloading python_dotenv-1.0.1-py3-none-any.whl (19 kB)\n",
            "Downloading qrcode-8.0-py3-none-any.whl (45 kB)\n",
            "\u001b[2K   \u001b[90m━━━━━━━━━━━━━━━━━━━━━━━━━━━━━━━━━━━━━━━━\u001b[0m \u001b[32m45.7/45.7 kB\u001b[0m \u001b[31m4.5 MB/s\u001b[0m eta \u001b[36m0:00:00\u001b[0m\n",
            "\u001b[?25hDownloading redis-5.0.8-py3-none-any.whl (255 kB)\n",
            "\u001b[2K   \u001b[90m━━━━━━━━━━━━━━━━━━━━━━━━━━━━━━━━━━━━━━━━\u001b[0m \u001b[32m255.6/255.6 kB\u001b[0m \u001b[31m23.4 MB/s\u001b[0m eta \u001b[36m0:00:00\u001b[0m\n",
            "\u001b[?25hDownloading shapely-2.0.7-cp312-cp312-manylinux_2_17_x86_64.manylinux2014_x86_64.whl (2.5 MB)\n",
            "\u001b[2K   \u001b[90m━━━━━━━━━━━━━━━━━━━━━━━━━━━━━━━━━━━━━━━━\u001b[0m \u001b[32m2.5/2.5 MB\u001b[0m \u001b[31m28.3 MB/s\u001b[0m eta \u001b[36m0:00:00\u001b[0m\n",
            "\u001b[?25hDownloading simple_pid-2.0.1-py3-none-any.whl (7.2 kB)\n",
            "Downloading slack_sdk-3.33.5-py2.py3-none-any.whl (292 kB)\n",
            "\u001b[2K   \u001b[90m━━━━━━━━━━━━━━━━━━━━━━━━━━━━━━━━━━━━━━━━\u001b[0m \u001b[32m292.3/292.3 kB\u001b[0m \u001b[31m27.2 MB/s\u001b[0m eta \u001b[36m0:00:00\u001b[0m\n",
            "\u001b[?25hDownloading structlog-24.4.0-py3-none-any.whl (67 kB)\n",
            "\u001b[2K   \u001b[90m━━━━━━━━━━━━━━━━━━━━━━━━━━━━━━━━━━━━━━━━\u001b[0m \u001b[32m67.2/67.2 kB\u001b[0m \u001b[31m6.5 MB/s\u001b[0m eta \u001b[36m0:00:00\u001b[0m\n",
            "\u001b[?25hDownloading tldextract-5.1.3-py3-none-any.whl (104 kB)\n",
            "\u001b[2K   \u001b[90m━━━━━━━━━━━━━━━━━━━━━━━━━━━━━━━━━━━━━━━━\u001b[0m \u001b[32m104.9/104.9 kB\u001b[0m \u001b[31m10.4 MB/s\u001b[0m eta \u001b[36m0:00:00\u001b[0m\n",
            "\u001b[?25hDownloading tokenizers-0.21.4-cp39-abi3-manylinux_2_17_x86_64.manylinux2014_x86_64.whl (3.1 MB)\n",
            "\u001b[2K   \u001b[90m━━━━━━━━━━━━━━━━━━━━━━━━━━━━━━━━━━━━━━━━\u001b[0m \u001b[32m3.1/3.1 MB\u001b[0m \u001b[31m103.5 MB/s\u001b[0m eta \u001b[36m0:00:00\u001b[0m\n",
            "\u001b[?25hDownloading twilio-9.3.8-py2.py3-none-any.whl (1.8 MB)\n",
            "\u001b[2K   \u001b[90m━━━━━━━━━━━━━━━━━━━━━━━━━━━━━━━━━━━━━━━━\u001b[0m \u001b[32m1.8/1.8 MB\u001b[0m \u001b[31m82.0 MB/s\u001b[0m eta \u001b[36m0:00:00\u001b[0m\n",
            "\u001b[?25hDownloading aiohttp_retry-2.8.3-py3-none-any.whl (9.8 kB)\n",
            "Downloading typer-0.16.0-py3-none-any.whl (46 kB)\n",
            "\u001b[2K   \u001b[90m━━━━━━━━━━━━━━━━━━━━━━━━━━━━━━━━━━━━━━━━\u001b[0m \u001b[32m46.3/46.3 kB\u001b[0m \u001b[31m4.2 MB/s\u001b[0m eta \u001b[36m0:00:00\u001b[0m\n",
            "\u001b[?25hDownloading typing_extensions-4.12.2-py3-none-any.whl (37 kB)\n",
            "Downloading zxing_cpp-2.2.0-cp312-cp312-manylinux_2_17_x86_64.manylinux2014_x86_64.whl (939 kB)\n",
            "\u001b[2K   \u001b[90m━━━━━━━━━━━━━━━━━━━━━━━━━━━━━━━━━━━━━━━━\u001b[0m \u001b[32m939.7/939.7 kB\u001b[0m \u001b[31m63.5 MB/s\u001b[0m eta \u001b[36m0:00:00\u001b[0m\n",
            "\u001b[?25hDownloading aioice-0.10.1-py3-none-any.whl (24 kB)\n",
            "Downloading av-12.3.0-cp312-cp312-manylinux_2_17_x86_64.manylinux2014_x86_64.whl (34.7 MB)\n",
            "\u001b[2K   \u001b[90m━━━━━━━━━━━━━━━━━━━━━━━━━━━━━━━━━━━━━━━━\u001b[0m \u001b[32m34.7/34.7 MB\u001b[0m \u001b[31m20.1 MB/s\u001b[0m eta \u001b[36m0:00:00\u001b[0m\n",
            "\u001b[?25hDownloading botocore-1.35.99-py3-none-any.whl (13.3 MB)\n",
            "\u001b[2K   \u001b[90m━━━━━━━━━━━━━━━━━━━━━━━━━━━━━━━━━━━━━━━━\u001b[0m \u001b[32m13.3/13.3 MB\u001b[0m \u001b[31m129.1 MB/s\u001b[0m eta \u001b[36m0:00:00\u001b[0m\n",
            "\u001b[?25hDownloading jmespath-1.0.1-py3-none-any.whl (20 kB)\n",
            "Downloading marshmallow-3.26.1-py3-none-any.whl (50 kB)\n",
            "\u001b[2K   \u001b[90m━━━━━━━━━━━━━━━━━━━━━━━━━━━━━━━━━━━━━━━━\u001b[0m \u001b[32m50.9/50.9 kB\u001b[0m \u001b[31m4.8 MB/s\u001b[0m eta \u001b[36m0:00:00\u001b[0m\n",
            "\u001b[?25hDownloading pyee-13.0.0-py3-none-any.whl (15 kB)\n",
            "Downloading pylibsrtp-0.12.0-cp39-abi3-manylinux_2_17_x86_64.manylinux2014_x86_64.whl (2.2 MB)\n",
            "\u001b[2K   \u001b[90m━━━━━━━━━━━━━━━━━━━━━━━━━━━━━━━━━━━━━━━━\u001b[0m \u001b[32m2.2/2.2 MB\u001b[0m \u001b[31m94.9 MB/s\u001b[0m eta \u001b[36m0:00:00\u001b[0m\n",
            "\u001b[?25hDownloading requests_file-2.1.0-py2.py3-none-any.whl (4.2 kB)\n",
            "Downloading s3transfer-0.10.4-py3-none-any.whl (83 kB)\n",
            "\u001b[2K   \u001b[90m━━━━━━━━━━━━━━━━━━━━━━━━━━━━━━━━━━━━━━━━\u001b[0m \u001b[32m83.2/83.2 kB\u001b[0m \u001b[31m8.3 MB/s\u001b[0m eta \u001b[36m0:00:00\u001b[0m\n",
            "\u001b[?25hDownloading starlette-0.46.2-py3-none-any.whl (72 kB)\n",
            "\u001b[2K   \u001b[90m━━━━━━━━━━━━━━━━━━━━━━━━━━━━━━━━━━━━━━━━\u001b[0m \u001b[32m72.0/72.0 kB\u001b[0m \u001b[31m7.4 MB/s\u001b[0m eta \u001b[36m0:00:00\u001b[0m\n",
            "\u001b[?25hDownloading typing_inspect-0.9.0-py3-none-any.whl (8.8 kB)\n",
            "Downloading zeep-4.3.1-py3-none-any.whl (101 kB)\n",
            "\u001b[2K   \u001b[90m━━━━━━━━━━━━━━━━━━━━━━━━━━━━━━━━━━━━━━━━\u001b[0m \u001b[32m101.7/101.7 kB\u001b[0m \u001b[31m10.6 MB/s\u001b[0m eta \u001b[36m0:00:00\u001b[0m\n",
            "\u001b[?25hDownloading aiosqlite-0.21.0-py3-none-any.whl (15 kB)\n",
            "Downloading coloredlogs-15.0.1-py2.py3-none-any.whl (46 kB)\n",
            "\u001b[2K   \u001b[90m━━━━━━━━━━━━━━━━━━━━━━━━━━━━━━━━━━━━━━━━\u001b[0m \u001b[32m46.0/46.0 kB\u001b[0m \u001b[31m4.5 MB/s\u001b[0m eta \u001b[36m0:00:00\u001b[0m\n",
            "\u001b[?25hDownloading dnspython-2.8.0-py3-none-any.whl (331 kB)\n",
            "\u001b[2K   \u001b[90m━━━━━━━━━━━━━━━━━━━━━━━━━━━━━━━━━━━━━━━━\u001b[0m \u001b[32m331.1/331.1 kB\u001b[0m \u001b[31m30.4 MB/s\u001b[0m eta \u001b[36m0:00:00\u001b[0m\n",
            "\u001b[?25hDownloading humanfriendly-10.0-py2.py3-none-any.whl (86 kB)\n",
            "\u001b[2K   \u001b[90m━━━━━━━━━━━━━━━━━━━━━━━━━━━━━━━━━━━━━━━━\u001b[0m \u001b[32m86.8/86.8 kB\u001b[0m \u001b[31m8.5 MB/s\u001b[0m eta \u001b[36m0:00:00\u001b[0m\n",
            "\u001b[?25hDownloading ifaddr-0.2.0-py3-none-any.whl (12 kB)\n",
            "Downloading isodate-0.7.2-py3-none-any.whl (22 kB)\n",
            "Downloading mypy_extensions-1.1.0-py3-none-any.whl (5.0 kB)\n",
            "Building wheels for collected packages: paho-mqtt, pybase64\n",
            "  Building wheel for paho-mqtt (setup.py) ... \u001b[?25l\u001b[?25hdone\n",
            "  Created wheel for paho-mqtt: filename=paho_mqtt-1.6.1-py3-none-any.whl size=62116 sha256=f5c3178a1324324ae7cefdc7ac8fc594eb7760c6a2f791642f674bff827c2596\n",
            "  Stored in directory: /root/.cache/pip/wheels/23/d5/af/1f3cbcc350dec9d8e95040f388e0163d132eff0c9a453db659\n",
            "  Building wheel for pybase64 (pyproject.toml) ... \u001b[?25l\u001b[?25hdone\n",
            "  Created wheel for pybase64: filename=pybase64-1.0.2-cp312-cp312-linux_x86_64.whl size=147464 sha256=2d01bfa35c0434f17c311af399960cb8a2c9523a9cedca604b03f819ec2ba774\n",
            "  Stored in directory: /root/.cache/pip/wheels/ba/62/aa/895a2495c012f960e827ad0930f338c7aea4708b677c44124a\n",
            "Successfully built paho-mqtt pybase64\n",
            "Installing collected packages: pylogix, paho-mqtt, ifaddr, zxing-cpp, typing_extensions, structlog, slack-sdk, simple-pid, shapely, redis, qrcode, python-dotenv, pymodbus, pydot, pybase64, packaging, opencv-python, opencv-contrib-python, mypy-extensions, jmespath, isodate, humanfriendly, filelock, dnspython, click, backoff, av, APScheduler, typing-inspect, requests-file, pylibsrtp, pyee, pandas, marshmallow, docker, coloredlogs, botocore, aiosqlite, aioice, zeep, typer, tokenizers, tldextract, starlette, s3transfer, onnxruntime, dataclasses-json, aiohttp, pydantic-settings, fastapi, boto3, asyncua, anthropic, aiortc, aiohttp-retry, twilio, prometheus-fastapi-instrumentator, onvif-zeep-async, inference\n",
            "  Attempting uninstall: typing_extensions\n",
            "    Found existing installation: typing_extensions 4.15.0\n",
            "    Uninstalling typing_extensions-4.15.0:\n",
            "      Successfully uninstalled typing_extensions-4.15.0\n",
            "  Attempting uninstall: shapely\n",
            "    Found existing installation: shapely 2.1.1\n",
            "    Uninstalling shapely-2.1.1:\n",
            "      Successfully uninstalled shapely-2.1.1\n",
            "  Attempting uninstall: python-dotenv\n",
            "    Found existing installation: python-dotenv 1.1.1\n",
            "    Uninstalling python-dotenv-1.1.1:\n",
            "      Successfully uninstalled python-dotenv-1.1.1\n",
            "  Attempting uninstall: pydot\n",
            "    Found existing installation: pydot 3.0.4\n",
            "    Uninstalling pydot-3.0.4:\n",
            "      Successfully uninstalled pydot-3.0.4\n",
            "  Attempting uninstall: packaging\n",
            "    Found existing installation: packaging 25.0\n",
            "    Uninstalling packaging-25.0:\n",
            "      Successfully uninstalled packaging-25.0\n",
            "  Attempting uninstall: opencv-python\n",
            "    Found existing installation: opencv-python 4.12.0.88\n",
            "    Uninstalling opencv-python-4.12.0.88:\n",
            "      Successfully uninstalled opencv-python-4.12.0.88\n",
            "  Attempting uninstall: opencv-contrib-python\n",
            "    Found existing installation: opencv-contrib-python 4.12.0.88\n",
            "    Uninstalling opencv-contrib-python-4.12.0.88:\n",
            "      Successfully uninstalled opencv-contrib-python-4.12.0.88\n",
            "  Attempting uninstall: filelock\n",
            "    Found existing installation: filelock 3.19.1\n",
            "    Uninstalling filelock-3.19.1:\n",
            "      Successfully uninstalled filelock-3.19.1\n",
            "  Attempting uninstall: click\n",
            "    Found existing installation: click 8.2.1\n",
            "    Uninstalling click-8.2.1:\n",
            "      Successfully uninstalled click-8.2.1\n",
            "  Attempting uninstall: pandas\n",
            "    Found existing installation: pandas 2.2.2\n",
            "    Uninstalling pandas-2.2.2:\n",
            "      Successfully uninstalled pandas-2.2.2\n",
            "  Attempting uninstall: typer\n",
            "    Found existing installation: typer 0.17.3\n",
            "    Uninstalling typer-0.17.3:\n",
            "      Successfully uninstalled typer-0.17.3\n",
            "  Attempting uninstall: tokenizers\n",
            "    Found existing installation: tokenizers 0.22.0\n",
            "    Uninstalling tokenizers-0.22.0:\n",
            "      Successfully uninstalled tokenizers-0.22.0\n",
            "  Attempting uninstall: starlette\n",
            "    Found existing installation: starlette 0.47.3\n",
            "    Uninstalling starlette-0.47.3:\n",
            "      Successfully uninstalled starlette-0.47.3\n",
            "  Attempting uninstall: aiohttp\n",
            "    Found existing installation: aiohttp 3.12.15\n",
            "    Uninstalling aiohttp-3.12.15:\n",
            "      Successfully uninstalled aiohttp-3.12.15\n",
            "  Attempting uninstall: pydantic-settings\n",
            "    Found existing installation: pydantic-settings 2.10.1\n",
            "    Uninstalling pydantic-settings-2.10.1:\n",
            "      Successfully uninstalled pydantic-settings-2.10.1\n",
            "  Attempting uninstall: fastapi\n",
            "    Found existing installation: fastapi 0.116.1\n",
            "    Uninstalling fastapi-0.116.1:\n",
            "      Successfully uninstalled fastapi-0.116.1\n",
            "\u001b[31mERROR: pip's dependency resolver does not currently take into account all the packages that are installed. This behaviour is the source of the following dependency conflicts.\n",
            "google-colab 1.0.0 requires pandas==2.2.2, but you have pandas 2.3.2 which is incompatible.\n",
            "dask-cudf-cu12 25.6.0 requires pandas<2.2.4dev0,>=2.0, but you have pandas 2.3.2 which is incompatible.\n",
            "typeguard 4.4.4 requires typing_extensions>=4.14.0, but you have typing-extensions 4.12.2 which is incompatible.\n",
            "transformers 4.56.0 requires tokenizers<=0.23.0,>=0.22.0, but you have tokenizers 0.21.4 which is incompatible.\n",
            "cudf-cu12 25.6.0 requires pandas<2.2.4dev0,>=2.0, but you have pandas 2.3.2 which is incompatible.\u001b[0m\u001b[31m\n",
            "\u001b[0mSuccessfully installed APScheduler-3.11.0 aiohttp-3.10.11 aiohttp-retry-2.8.3 aioice-0.10.1 aiortc-1.9.0 aiosqlite-0.21.0 anthropic-0.49.0 asyncua-1.1.8 av-12.3.0 backoff-2.2.1 boto3-1.35.60 botocore-1.35.99 click-8.1.8 coloredlogs-15.0.1 dataclasses-json-0.6.7 dnspython-2.8.0 docker-7.1.0 fastapi-0.115.14 filelock-3.17.0 humanfriendly-10.0 ifaddr-0.2.0 inference-0.54.2 isodate-0.7.2 jmespath-1.0.1 marshmallow-3.26.1 mypy-extensions-1.1.0 onnxruntime-1.21.1 onvif-zeep-async-2.0.0 opencv-contrib-python-4.10.0.84 opencv-python-4.10.0.84 packaging-24.2 paho-mqtt-1.6.1 pandas-2.3.2 prometheus-fastapi-instrumentator-6.0.0 pybase64-1.0.2 pydantic-settings-2.7.1 pydot-2.0.0 pyee-13.0.0 pylibsrtp-0.12.0 pylogix-1.0.5 pymodbus-3.8.3 python-dotenv-1.0.1 qrcode-8.0 redis-5.0.8 requests-file-2.1.0 s3transfer-0.10.4 shapely-2.0.7 simple-pid-2.0.1 slack-sdk-3.33.5 starlette-0.46.2 structlog-24.4.0 tldextract-5.1.3 tokenizers-0.21.4 twilio-9.3.8 typer-0.16.0 typing-inspect-0.9.0 typing_extensions-4.12.2 zeep-4.3.1 zxing-cpp-2.2.0\n"
          ]
        },
        {
          "data": {
            "application/vnd.colab-display-data+json": {
              "id": "6e53c8bf0823454ab8095b01a31da802",
              "pip_warning": {
                "packages": [
                  "packaging"
                ]
              }
            }
          },
          "metadata": {},
          "output_type": "display_data"
        }
      ],
      "source": [
        "!pip install inference"
      ]
    },
    {
      "cell_type": "code",
      "execution_count": null,
      "id": "61c9847d",
      "metadata": {
        "id": "61c9847d"
      },
      "outputs": [],
      "source": [
        "# Imports\n",
        "import numpy as np\n",
        "from PIL import Image\n",
        "import roboflow\n",
        "import os\n",
        "import matplotlib.pyplot as plt\n",
        "from inference import get_model\n",
        "import supervision as sv\n",
        "from PIL import Image\n",
        "from sklearn.isotonic import IsotonicRegression\n",
        "import cv2\n",
        "import pandas as pd\n",
        "from scipy.stats import beta\n"
      ]
    },
    {
      "cell_type": "code",
      "execution_count": null,
      "id": "ee61362c",
      "metadata": {
        "colab": {
          "base_uri": "https://localhost:8080/"
        },
        "id": "ee61362c",
        "outputId": "070885f4-299d-418f-a506-879087006fc6"
      },
      "outputs": [
        {
          "name": "stdout",
          "output_type": "stream",
          "text": [
            "/content\n",
            "/content/datasets\n"
          ]
        }
      ],
      "source": [
        "# Set constant working directory and create dataset directory\n",
        "HOME = os.getcwd()\n",
        "print(HOME)\n",
        "!mkdir {HOME}/datasets\n",
        "%cd {HOME}/datasets"
      ]
    },
    {
      "cell_type": "code",
      "execution_count": null,
      "id": "09512f6c",
      "metadata": {
        "colab": {
          "base_uri": "https://localhost:8080/"
        },
        "id": "09512f6c",
        "outputId": "8e834829-8617-4fe5-ea33-35ce43e2d62e"
      },
      "outputs": [
        {
          "name": "stdout",
          "output_type": "stream",
          "text": [
            "\rvisit https://app.roboflow.com/auth-cli to get your authentication token.\n",
            "Paste the authentication token here: ··········\n",
            "loading Roboflow workspace...\n",
            "loading Roboflow project...\n"
          ]
        },
        {
          "name": "stderr",
          "output_type": "stream",
          "text": [
            "Downloading Dataset Version Zip in License-Plate-Recognition-1 to yolov8:: 100%|██████████| 527622/527622 [00:17<00:00, 30930.14it/s]"
          ]
        },
        {
          "name": "stdout",
          "output_type": "stream",
          "text": [
            "\n"
          ]
        },
        {
          "name": "stderr",
          "output_type": "stream",
          "text": [
            "\n",
            "Extracting Dataset Version Zip to License-Plate-Recognition-1 in yolov8:: 100%|██████████| 20264/20264 [00:02<00:00, 6871.05it/s]\n"
          ]
        }
      ],
      "source": [
        "# Autheticate with roboflow (you must already have a free account)\n",
        "roboflow.login()\n",
        "rf = roboflow.Roboflow()\n",
        "\n",
        "# Download the dataset from roboflow universe\n",
        "project = rf.workspace(\"roboflow-universe-projects\").project(\"license-plate-recognition-rxg4e\")\n",
        "version = project.version(1)\n",
        "dataset = version.download(\"yolov8\")"
      ]
    },
    {
      "cell_type": "markdown",
      "id": "gv9F6ddYoKI0",
      "metadata": {
        "id": "gv9F6ddYoKI0"
      },
      "source": [
        "## Set Up - Inference\n",
        "For the second part of setup, we'll load the model from roboflow universe. NOTE: you will need to paste your API key here. Then we'll run the test set through the model recording for each image the ground truth, and the model's predictions.\n",
        "\n",
        "Then we'll iterate through test and train datasets and get the predictions and confidences for each. The train set will be used to train post-hoc confidence calibration models."
      ]
    },
    {
      "cell_type": "code",
      "execution_count": null,
      "id": "a8da1226",
      "metadata": {
        "colab": {
          "base_uri": "https://localhost:8080/"
        },
        "id": "a8da1226",
        "outputId": "9d38c839-633f-4570-f2f9-1ea10a16cb86"
      },
      "outputs": [
        {
          "name": "stderr",
          "output_type": "stream",
          "text": [
            "UserWarning: Specified provider 'CUDAExecutionProvider' is not in available provider names.Available providers: 'AzureExecutionProvider, CPUExecutionProvider'\n",
            "UserWarning: Specified provider 'OpenVINOExecutionProvider' is not in available provider names.Available providers: 'AzureExecutionProvider, CPUExecutionProvider'\n",
            "UserWarning: Specified provider 'CoreMLExecutionProvider' is not in available provider names.Available providers: 'AzureExecutionProvider, CPUExecutionProvider'\n"
          ]
        }
      ],
      "source": [
        "# Load model\n",
        "model = get_model(\"license-plate-recognition-rxg4e/2\", api_key=\"YOURAPIKEY\")"
      ]
    },
    {
      "cell_type": "code",
      "execution_count": null,
      "id": "L2LhlZga_icu",
      "metadata": {
        "id": "L2LhlZga_icu"
      },
      "outputs": [],
      "source": [
        "def get_predictions_and_targets(dataset_location, split, model, max_images=None):\n",
        "    \"\"\"\n",
        "    Performs inference on a dataset split and returns image paths, predictions, and target labels.\n",
        "\n",
        "    Args:\n",
        "        dataset_location (str): Path to the dataset directory.\n",
        "        split (str): The dataset split to use ('train', 'valid', or 'test').\n",
        "        model: The loaded inference model.\n",
        "        max_images (int, optional): Maximum number of images to process. Defaults to None.\n",
        "\n",
        "    Returns:\n",
        "        tuple: A tuple containing three lists:\n",
        "               - image_paths (list): List of image file paths.\n",
        "               - predictions_list (list): List of sv.Detections objects for predictions.\n",
        "               - targets_list (list): List of sv.Detections objects for ground truth labels.\n",
        "    \"\"\"\n",
        "    image_paths = []\n",
        "    predictions_list = []\n",
        "    targets_list = []\n",
        "\n",
        "    # Load the specific split dataset\n",
        "    split_dataset = sv.DetectionDataset.from_yolo(\n",
        "        images_directory_path=f\"{dataset_location}/{split}/images\",\n",
        "        annotations_directory_path=f\"{dataset_location}/{split}/labels\",\n",
        "        data_yaml_path=f\"{dataset_location}/data.yaml\"\n",
        "    )\n",
        "\n",
        "    temp_count = 0\n",
        "    for image_path, image, label in split_dataset:\n",
        "        if max_images is not None and temp_count >= max_images:\n",
        "            break\n",
        "\n",
        "        # The 'image' object from sv.DetectionDataset might be a NumPy array or PIL Image.\n",
        "        # Ensure it's in a format `model.infer` can handle. Assuming PIL Image is preferred.\n",
        "        if isinstance(image, np.ndarray):\n",
        "             image_pil = Image.fromarray(cv2.cvtColor(image, cv2.COLOR_BGR2RGB))\n",
        "        else:\n",
        "             image_pil = image # Assume it's already a compatible format (like PIL)\n",
        "\n",
        "        result = model.infer(image_pil)[0]\n",
        "        predictions = sv.Detections.from_inference(result)\n",
        "\n",
        "        image_paths.append(image_path)\n",
        "        predictions_list.append(predictions)\n",
        "        targets_list.append(label) # label is already sv.Detections\n",
        "\n",
        "        temp_count += 1\n",
        "\n",
        "    return image_paths, predictions_list, targets_list"
      ]
    },
    {
      "cell_type": "markdown",
      "id": "RWHcpN9jJCcm",
      "metadata": {
        "id": "RWHcpN9jJCcm"
      },
      "source": [
        "#### This will take a minute"
      ]
    },
    {
      "cell_type": "code",
      "execution_count": null,
      "id": "X7TIhbsAJBeo",
      "metadata": {
        "id": "X7TIhbsAJBeo"
      },
      "outputs": [],
      "source": [
        "# For each image in the test set, do inference and save the prediction and ground truth for eval\n",
        "test_image_paths, test_predictions_list, test_targets_list = get_predictions_and_targets(\n",
        "    dataset.location, \"test\", model, max_images=4000\n",
        ")\n",
        "\n",
        "# For each image in the train set, do inference and save the prediction and ground truth for eval\n",
        "train_image_paths, train_predictions_list, train_targets_list = get_predictions_and_targets(\n",
        "    dataset.location, \"train\", model\n",
        ")"
      ]
    },
    {
      "cell_type": "markdown",
      "id": "a3Rdpkcgp5dT",
      "metadata": {
        "id": "a3Rdpkcgp5dT"
      },
      "source": [
        "### Helper Functions\n",
        "Now that we have our ground truth and predictions, we need to evaluate each predictions correctness, and get format our results so they're ready for confidence calibration analysis.\n",
        "\n",
        "First we define a function, compute_iou, that computes the intersection over union (iou) for two bounding boxes which we'll use later to evaluate the correctness of a given detection. NOTE: it is best practice to use industry standard evaluation libraries instead of implementing your own like I am doing in this demo. Then we define a function that uses the compute_iou function to evaluate the output of our inference results. From there we get the correctness of each prediction, and its confidence, the two parts we need to evaluate calibration.\n",
        "\n",
        "\n"
      ]
    },
    {
      "cell_type": "code",
      "execution_count": null,
      "id": "I_SL6QqbGPtl",
      "metadata": {
        "id": "I_SL6QqbGPtl"
      },
      "outputs": [],
      "source": [
        "def compute_iou(boxA, boxB):\n",
        "    \"\"\"\n",
        "    Compute IoU between two bounding boxes.\n",
        "    Each box is [x1, y1, x2, y2]\n",
        "    \"\"\"\n",
        "    xA = max(boxA[0], boxB[0])\n",
        "    yA = max(boxA[1], boxB[1])\n",
        "    xB = min(boxA[2], boxB[2])\n",
        "    yB = min(boxA[3], boxB[3])\n",
        "\n",
        "    interArea = max(0, xB - xA) * max(0, yB - yA)\n",
        "    if interArea == 0:\n",
        "        return 0.0\n",
        "\n",
        "    boxAArea = (boxA[2] - boxA[0]) * (boxA[3] - boxA[1])\n",
        "    boxBArea = (boxB[2] - boxB[0]) * (boxB[3] - boxB[1])\n",
        "    unionArea = boxAArea + boxBArea - interArea\n",
        "\n",
        "    return interArea / unionArea\n",
        "\n",
        "def prepare_calibration_data(predictions_list, targets_list, iou_threshold=0.5):\n",
        "    \"\"\"\n",
        "    Prepares (confidence, correctness) pairs for calibration metrics from object detection results.\n",
        "\n",
        "    Args:\n",
        "        predictions_list: list of sv.Detections (model outputs)\n",
        "        targets_list: list of sv.Detections (ground-truth)\n",
        "        iou_threshold: IoU threshold to consider a match\n",
        "\n",
        "    Returns:\n",
        "        confidences: np.array of prediction confidence scores\n",
        "        correctness: np.array of binary correctness (1 for correct, 0 for incorrect)\n",
        "    \"\"\"\n",
        "    confidences = []\n",
        "    correctness = []\n",
        "\n",
        "    for preds, targets in zip(predictions_list, targets_list):\n",
        "        if len(preds.xyxy) == 0:\n",
        "            continue\n",
        "\n",
        "        for i, pred_box in enumerate(preds.xyxy):\n",
        "            pred_class = preds.class_id[i]\n",
        "            pred_conf = preds.confidence[i]\n",
        "            matched = False\n",
        "\n",
        "            for j, target_box in enumerate(targets.xyxy):\n",
        "                target_class = targets.class_id[j]\n",
        "                if pred_class != target_class:\n",
        "                    continue\n",
        "\n",
        "                iou = compute_iou(pred_box, target_box)\n",
        "                if iou >= iou_threshold:\n",
        "                    matched = True\n",
        "                    break\n",
        "\n",
        "            confidences.append(pred_conf)\n",
        "            correctness.append(1 if matched else 0)\n",
        "\n",
        "    return np.array(confidences), np.array(correctness)"
      ]
    },
    {
      "cell_type": "code",
      "execution_count": null,
      "id": "UsTORehaGZ2x",
      "metadata": {
        "id": "UsTORehaGZ2x"
      },
      "outputs": [],
      "source": [
        "test_confidences, test_correctness = prepare_calibration_data(test_predictions_list, test_targets_list, iou_threshold=0.5)\n",
        "train_confidences, train_correctness = prepare_calibration_data(train_predictions_list, train_targets_list, iou_threshold=0.5)"
      ]
    },
    {
      "cell_type": "markdown",
      "id": "887d3f28",
      "metadata": {
        "id": "887d3f28"
      },
      "source": [
        "## Evaluating Confidence Calibration"
      ]
    },
    {
      "cell_type": "markdown",
      "id": "1d5c261b",
      "metadata": {
        "id": "1d5c261b"
      },
      "source": [
        "#### Reliability Diagrams\n",
        "The most LinkedIn-influencer-friendly way to measure a model’s confidence calibration is the **Reliability Diagram**. Predictions from the model are sorted into bins along the x-axis based on their confidence scores, and the accuracy of each bin is then calculated and plotted on the y-axis. A **perfectly calibrated** model will produce a reliability diagram that follows a 1:1 slope (a diagonal line from the origin to the top-right corner)."
      ]
    },
    {
      "cell_type": "code",
      "execution_count": null,
      "id": "jsg1b6noG8k2",
      "metadata": {
        "id": "jsg1b6noG8k2"
      },
      "outputs": [],
      "source": [
        "def plot_reliability_diagram(confidences, correctness, n_bins=10):\n",
        "    \"\"\"\n",
        "    Plot a reliability diagram using prediction confidences and binary correctness.\n",
        "\n",
        "    Args:\n",
        "        confidences (np.ndarray): Array of predicted confidence scores (0-1)\n",
        "        correctness (np.ndarray): Array of binary values (1 if correct, 0 if not)\n",
        "        n_bins (int): Number of bins to group confidence values\n",
        "    \"\"\"\n",
        "    bins = np.linspace(0, 1, n_bins + 1)\n",
        "    bin_centers = (bins[:-1] + bins[1:]) / 2\n",
        "\n",
        "    accs = []\n",
        "    confs = []\n",
        "\n",
        "    for i in range(n_bins):\n",
        "        mask = (confidences >= bins[i]) & (confidences < bins[i+1])\n",
        "        bin_correct = correctness[mask]\n",
        "        bin_conf = confidences[mask]\n",
        "\n",
        "        if len(bin_correct) > 0:\n",
        "            acc = np.mean(bin_correct)\n",
        "            conf = np.mean(bin_conf)\n",
        "        else:\n",
        "            acc = 0.0\n",
        "            conf = 0.0\n",
        "\n",
        "        accs.append(acc)\n",
        "        confs.append(conf)\n",
        "\n",
        "    accs = np.array(accs)\n",
        "    confs = np.array(confs)\n",
        "    gaps = confs - accs\n",
        "\n",
        "    # Plot bars\n",
        "    bar_width = 1.0 / n_bins\n",
        "    plt.bar(bin_centers, accs, width=bar_width, edgecolor='black', label='Accuracy', color='skyblue')\n",
        "    plt.bar(bin_centers, gaps, bottom=accs, width=bar_width, edgecolor='black', color='red', alpha=0.6, label='Gap')\n",
        "\n",
        "    # Perfect calibration line\n",
        "    plt.plot([0, 1], [0, 1], linestyle='--', color='black', label='Perfect Calibration')\n",
        "\n",
        "    plt.xlabel('Confidence')\n",
        "    plt.ylabel('Accuracy')\n",
        "    plt.title('Reliability Diagram')\n",
        "    plt.legend()\n",
        "    plt.grid(True)\n",
        "    plt.ylim([0, 1])\n",
        "    plt.xlim([0, 1])\n",
        "    plt.show()"
      ]
    },
    {
      "cell_type": "markdown",
      "id": "b8aa70eb",
      "metadata": {
        "id": "b8aa70eb"
      },
      "source": [
        "#### Expected Calibration Error (ECE)\n",
        "ECE measures how well a model’s predicted confidence scores align with actual accuracy. It works by grouping predictions into bins based on confidence levels, then calculating the average difference between each bin’s confidence and observed accuracy. A lower ECE indicates better calibration."
      ]
    },
    {
      "cell_type": "code",
      "execution_count": null,
      "id": "_Fcj-H5aHzy6",
      "metadata": {
        "id": "_Fcj-H5aHzy6"
      },
      "outputs": [],
      "source": [
        "def calculate_ece(confidences, correctness, n_bins=10):\n",
        "    \"\"\"\n",
        "    Calculate Expected Calibration Error (ECE).\n",
        "\n",
        "    Args:\n",
        "        confidences (np.ndarray): Array of predicted confidence scores (0-1).\n",
        "        correctness (np.ndarray): Array of binary values (1 if correct, 0 if incorrect).\n",
        "        n_bins (int): Number of bins to group confidence values.\n",
        "\n",
        "    Returns:\n",
        "        float: Expected Calibration Error (ECE)\n",
        "    \"\"\"\n",
        "    bins = np.linspace(0, 1, n_bins + 1)\n",
        "    ece = 0.0\n",
        "    n = len(confidences)\n",
        "\n",
        "    for i in range(n_bins):\n",
        "        bin_lower = bins[i]\n",
        "        bin_upper = bins[i + 1]\n",
        "        mask = (confidences >= bin_lower) & (confidences < bin_upper)\n",
        "\n",
        "        bin_conf = confidences[mask]\n",
        "        bin_correct = correctness[mask]\n",
        "        bin_size = len(bin_conf)\n",
        "\n",
        "        if bin_size > 0:\n",
        "            avg_conf = np.mean(bin_conf)\n",
        "            avg_acc = np.mean(bin_correct)\n",
        "            bin_ece = np.abs(avg_conf - avg_acc) * (bin_size / n)\n",
        "            ece += bin_ece\n",
        "\n",
        "    return ece"
      ]
    },
    {
      "cell_type": "markdown",
      "id": "7449693a",
      "metadata": {
        "id": "7449693a"
      },
      "source": [
        "#### Maximum Calibration Error (MCE)\n",
        "\n",
        "MCE captures the worst-case gap between predicted confidence and actual accuracy across all bins. Like ECE, it groups predictions into confidence bins, but instead of averaging, it reports the **maximum** observed gap—identifying the single most miscalibrated region of the model’s output."
      ]
    },
    {
      "cell_type": "code",
      "execution_count": null,
      "id": "ociyHEiRH_-N",
      "metadata": {
        "id": "ociyHEiRH_-N"
      },
      "outputs": [],
      "source": [
        "def calculate_mce(confidences, correctness, n_bins=10):\n",
        "    \"\"\"\n",
        "    Calculate Maximum Calibration Error (MCE).\n",
        "\n",
        "    Args:\n",
        "        confidences (np.ndarray): Array of predicted confidence scores (0-1).\n",
        "        correctness (np.ndarray): Array of binary values (1 if correct, 0 if incorrect).\n",
        "        n_bins (int): Number of bins to group confidence values.\n",
        "\n",
        "    Returns:\n",
        "        float: Maximum Calibration Error (MCE)\n",
        "    \"\"\"\n",
        "    bins = np.linspace(0, 1, n_bins + 1)\n",
        "    mce = 0.0\n",
        "\n",
        "    for i in range(n_bins):\n",
        "        bin_lower = bins[i]\n",
        "        bin_upper = bins[i + 1]\n",
        "        mask = (confidences >= bin_lower) & (confidences < bin_upper)\n",
        "\n",
        "        bin_conf = confidences[mask]\n",
        "        bin_correct = correctness[mask]\n",
        "\n",
        "        if len(bin_conf) > 0:\n",
        "            avg_conf = np.mean(bin_conf)\n",
        "            avg_acc = np.mean(bin_correct)\n",
        "            gap = np.abs(avg_conf - avg_acc)\n",
        "            mce = max(mce, gap)\n",
        "\n",
        "    return mce"
      ]
    },
    {
      "cell_type": "markdown",
      "id": "ef3901a0",
      "metadata": {
        "id": "ef3901a0"
      },
      "source": [
        "#### Brier Score\n",
        "The Brier Score quantifies the mean squared difference between predicted confidence and actual binary outcomes. A lower Brier Score indicates better-calibrated AND more accurate predictions.\n",
        "\n",
        "Unlike ECE or MCE, which focus purely on calibration, Brier Score blends both **calibration** and **discrimination**. This makes it a more holistic metric in some cases, but also harder to interpret in isolation. I like to think of it as the L2 loss of a model’s confidence output."
      ]
    },
    {
      "cell_type": "code",
      "execution_count": null,
      "id": "-k40E-CxIJw5",
      "metadata": {
        "id": "-k40E-CxIJw5"
      },
      "outputs": [],
      "source": [
        "def calculate_brier_score(confidences, correctness):\n",
        "    \"\"\"\n",
        "    Calculate Brier Score.\n",
        "\n",
        "    Args:\n",
        "        confidences (np.ndarray): Array of predicted confidence scores (0-1).\n",
        "        correctness (np.ndarray): Array of binary values (1 if correct, 0 if incorrect).\n",
        "\n",
        "    Returns:\n",
        "        float: Brier Score\n",
        "    \"\"\"\n",
        "    confidences = np.asarray(confidences)\n",
        "    correctness = np.asarray(correctness)\n",
        "    return np.mean((confidences - correctness) ** 2)"
      ]
    },
    {
      "cell_type": "code",
      "execution_count": null,
      "id": "B1FWDLs_7vCf",
      "metadata": {
        "id": "B1FWDLs_7vCf"
      },
      "outputs": [],
      "source": [
        "results = []"
      ]
    },
    {
      "cell_type": "markdown",
      "id": "yywGVC2mwrbD",
      "metadata": {
        "id": "yywGVC2mwrbD"
      },
      "source": [
        "### Running the Evaluation Methods on Raw Confidences\n",
        "Next we'll run each of the four confidence calibration methods on the confidences and predictions made by the model on our test set"
      ]
    },
    {
      "cell_type": "code",
      "execution_count": null,
      "id": "sO15esKrw4Fu",
      "metadata": {
        "colab": {
          "base_uri": "https://localhost:8080/",
          "height": 526
        },
        "id": "sO15esKrw4Fu",
        "outputId": "aefd6db8-34b7-4f4c-9c82-6f39ecf627f3"
      },
      "outputs": [
        {
          "data": {
            "image/png": "[encoded data removed]",
            "text/plain": [
              "<Figure size 640x480 with 1 Axes>"
            ]
          },
          "metadata": {},
          "output_type": "display_data"
        },
        {
          "name": "stdout",
          "output_type": "stream",
          "text": [
            "ECE: 0.12552337626616158\n",
            "MCE: 0.407440756048475\n",
            "Brier Score: 0.02931204679346779\n"
          ]
        }
      ],
      "source": [
        "plot_reliability_diagram(test_confidences, test_correctness, n_bins=10)\n",
        "ece = calculate_ece(test_confidences, test_correctness, n_bins=10)\n",
        "mce = calculate_mce(test_confidences, test_correctness, n_bins=10)\n",
        "brier = calculate_brier_score(test_confidences, test_correctness)\n",
        "\n",
        "print(f'ECE: {ece}')\n",
        "print(f'MCE: {mce}')\n",
        "print(f'Brier Score: {brier}')\n",
        "results.append(['raw', ece, mce, brier])"
      ]
    },
    {
      "cell_type": "markdown",
      "id": "c4166b23",
      "metadata": {
        "id": "c4166b23"
      },
      "source": [
        "## Confidence Calibration Post-training Improvements"
      ]
    },
    {
      "cell_type": "markdown",
      "id": "6532e591",
      "metadata": {
        "id": "6532e591"
      },
      "source": [
        "#### Isotonic Regression\n",
        "Isotonic regression is a non-parametric method that fits a piecewise constant, non-decreasing function to map raw model confidences to calibrated probabilities. It performs well with large validation datasets but can overfit on small or noisy data. Think of it as a post-hoc inference. First your computer vision model does inference, and then this secondary model predicts actual confidence based on its training.\n"
      ]
    },
    {
      "cell_type": "code",
      "execution_count": null,
      "id": "X4OyxnKNxo7o",
      "metadata": {
        "id": "X4OyxnKNxo7o"
      },
      "outputs": [],
      "source": [
        "def train_isotonic_calibrator(train_confidences: np.ndarray, train_correctness: np.ndarray) -> IsotonicRegression:\n",
        "    \"\"\"\n",
        "    Trains an isotonic regression model for calibration.\n",
        "\n",
        "    Args:\n",
        "        train_confidences: array of model confidence scores from training/validation set\n",
        "        train_correctness: array of binary correctness labels (1 for correct, 0 for incorrect)\n",
        "\n",
        "    Returns:\n",
        "        iso_model: trained IsotonicRegression model\n",
        "    \"\"\"\n",
        "    iso_model = IsotonicRegression(out_of_bounds='clip')\n",
        "    iso_model.fit(train_confidences, train_correctness)\n",
        "    return iso_model\n"
      ]
    },
    {
      "cell_type": "code",
      "execution_count": null,
      "id": "ubcfoesn4ebo",
      "metadata": {
        "id": "ubcfoesn4ebo"
      },
      "outputs": [],
      "source": [
        "# Fit isotonic regression model\n",
        "iso_model = train_isotonic_calibrator(train_confidences, train_correctness)\n",
        "# Use model to calibrate test confidences\n",
        "iso_calibrated_confidences = iso_model.predict(test_confidences)"
      ]
    },
    {
      "cell_type": "code",
      "execution_count": null,
      "id": "_qf-oOeR5tXN",
      "metadata": {
        "colab": {
          "base_uri": "https://localhost:8080/",
          "height": 526
        },
        "id": "_qf-oOeR5tXN",
        "outputId": "cfeb6a39-63ce-48af-e363-b42e196d69c7"
      },
      "outputs": [
        {
          "data": {
            "image/png": "[encoded data removed]",
            "text/plain": [
              "<Figure size 640x480 with 1 Axes>"
            ]
          },
          "metadata": {},
          "output_type": "display_data"
        },
        {
          "name": "stdout",
          "output_type": "stream",
          "text": [
            "ECE: 0.006801748294699351\n",
            "MCE: 0.35294117647058826\n",
            "Brier Score: 0.01308171067307804\n"
          ]
        }
      ],
      "source": [
        "plot_reliability_diagram(iso_calibrated_confidences, test_correctness, n_bins=10)\n",
        "iso_ece = calculate_ece(iso_calibrated_confidences, test_correctness, n_bins=10)\n",
        "iso_mce = calculate_mce(iso_calibrated_confidences, test_correctness, n_bins=10)\n",
        "iso_brier = calculate_brier_score(iso_calibrated_confidences, test_correctness)\n",
        "\n",
        "print(f'ECE: {iso_ece}')\n",
        "print(f'MCE: {iso_mce}')\n",
        "print(f'Brier Score: {iso_brier}')\n",
        "results.append(['isotonic', iso_ece, iso_mce, iso_brier])"
      ]
    },
    {
      "cell_type": "markdown",
      "id": "980207a7",
      "metadata": {
        "id": "980207a7"
      },
      "source": [
        "#### Histogram Binning\n",
        "Histogram binning divides predictions into fixed-width confidence intervals and assigns the average accuracy of each bin to the predictions within it. It's simple and interpretable but sensitive to the number and placement of bins.\n"
      ]
    },
    {
      "cell_type": "code",
      "execution_count": null,
      "id": "iyyBj6qQ6gAX",
      "metadata": {
        "id": "iyyBj6qQ6gAX"
      },
      "outputs": [],
      "source": [
        "def train_histogram_binning(train_confidences: np.ndarray, train_correctness: np.ndarray, n_bins: int = 10):\n",
        "    \"\"\"\n",
        "    Trains a histogram-binning calibration model.\n",
        "\n",
        "    Args:\n",
        "        train_confidences: array of model confidence scores from training/validation set\n",
        "        train_correctness: array of binary correctness labels (1 for correct, 0 for incorrect)\n",
        "        n_bins: number of bins to discretize the confidence range [0,1]\n",
        "\n",
        "    Returns:\n",
        "        bin_edges: array of bin edges\n",
        "        bin_accs: array of calibrated probabilities per bin\n",
        "    \"\"\"\n",
        "    # Create equally spaced bins\n",
        "    bin_edges = np.linspace(0, 1, n_bins + 1)\n",
        "\n",
        "    # Initialize array to hold the average correctness per bin\n",
        "    bin_accs = np.zeros(n_bins)\n",
        "\n",
        "    # Digitize confidences into bins\n",
        "    bin_ids = np.digitize(train_confidences, bin_edges) - 1\n",
        "    # Clip to valid indices (in case a value == 1 falls outside last bin)\n",
        "    bin_ids = np.clip(bin_ids, 0, n_bins - 1)\n",
        "\n",
        "    for i in range(n_bins):\n",
        "        mask = bin_ids == i\n",
        "        if np.any(mask):\n",
        "            bin_accs[i] = train_correctness[mask].mean()\n",
        "        else:\n",
        "            # fallback: use midpoint of bin if empty\n",
        "            bin_accs[i] = (bin_edges[i] + bin_edges[i + 1]) / 2\n",
        "\n",
        "    return bin_edges, bin_accs\n",
        "\n",
        "def apply_histogram_binning(bin_edges: np.ndarray, bin_accs: np.ndarray, test_confidences: np.ndarray):\n",
        "  \"\"\"\n",
        "  Apply histogram-binning calibration to a set of test confidences.\n",
        "\n",
        "  Args:\n",
        "      bin_edges: array of bin edges returned by train_histogram_binning\n",
        "      bin_accs: array of calibrated probabilities per bin returned by train_histogram_binning\n",
        "      test_confidences: array of model confidence scores to calibrate\n",
        "\n",
        "  Returns:\n",
        "      calibrated_probs: array of calibrated probabilities\n",
        "  \"\"\"\n",
        "  n_bins = len(bin_accs)\n",
        "\n",
        "  # Digitize test confidences\n",
        "  bin_ids = np.digitize(test_confidences, bin_edges) - 1\n",
        "  bin_ids = np.clip(bin_ids, 0, n_bins - 1)  # handle edge cases\n",
        "\n",
        "  # Map each confidence to its calibrated probability\n",
        "  calibrated_probs = bin_accs[bin_ids]\n",
        "\n",
        "  return calibrated_probs\n"
      ]
    },
    {
      "cell_type": "code",
      "execution_count": null,
      "id": "7L9CHEXZ6gwB",
      "metadata": {
        "id": "7L9CHEXZ6gwB"
      },
      "outputs": [],
      "source": [
        "histo_calibrator = train_histogram_binning(train_confidences, train_correctness, n_bins=10)\n",
        "histo_calibrated_confidences = apply_histogram_binning(histo_calibrator[0], histo_calibrator[1], test_confidences)"
      ]
    },
    {
      "cell_type": "code",
      "execution_count": null,
      "id": "Rd37AQKS62om",
      "metadata": {
        "colab": {
          "base_uri": "https://localhost:8080/",
          "height": 526
        },
        "id": "Rd37AQKS62om",
        "outputId": "7b178606-8281-482e-fbea-04b666a36911"
      },
      "outputs": [
        {
          "data": {
            "image/png": "[encoded data removed]",
            "text/plain": [
              "<Figure size 640x480 with 1 Axes>"
            ]
          },
          "metadata": {},
          "output_type": "display_data"
        },
        {
          "name": "stdout",
          "output_type": "stream",
          "text": [
            "ECE: 0.0028617008017308046\n",
            "MCE: 0.31868131868131877\n",
            "Brier Score: 0.012969877382886375\n"
          ]
        }
      ],
      "source": [
        "plot_reliability_diagram(histo_calibrated_confidences, test_correctness, n_bins=10)\n",
        "histo_ece = calculate_ece(histo_calibrated_confidences, test_correctness, n_bins=10)\n",
        "histo_mce = calculate_mce(histo_calibrated_confidences, test_correctness, n_bins=10)\n",
        "histo_brier = calculate_brier_score(histo_calibrated_confidences, test_correctness)\n",
        "\n",
        "print(f'ECE: {histo_ece}')\n",
        "print(f'MCE: {histo_mce}')\n",
        "print(f'Brier Score: {histo_brier}')\n",
        "\n",
        "results.append(['histogram', histo_ece, histo_mce, histo_brier])"
      ]
    },
    {
      "cell_type": "markdown",
      "id": "72613b14",
      "metadata": {
        "id": "72613b14"
      },
      "source": [
        "#### Bayesian Binning into Quantiles (BBQ)\n",
        "I haven’t used this one in real projects—I just think the name BBQ is fun. BBQ takes histogram binning and adds a Bayesian twist, averaging over different ways to split up the data. This helps avoid overfitting and deals with uncertainty better, especially when you don’t have much data.\n"
      ]
    },
    {
      "cell_type": "code",
      "execution_count": null,
      "id": "A4d9sE7eA2Ow",
      "metadata": {
        "id": "A4d9sE7eA2Ow"
      },
      "outputs": [],
      "source": [
        "class BayesianBinningCalibrator:\n",
        "    def __init__(self, n_bins=10, alpha_prior=1.0, beta_prior=1.0):\n",
        "        \"\"\"\n",
        "        Bayesian histogram binning calibration.\n",
        "\n",
        "        Args:\n",
        "            n_bins (int): Number of bins to discretize confidences into.\n",
        "            alpha_prior (float): Beta prior alpha parameter.\n",
        "            beta_prior (float): Beta prior beta parameter.\n",
        "        \"\"\"\n",
        "        self.n_bins = n_bins\n",
        "        self.alpha_prior = alpha_prior\n",
        "        self.beta_prior = beta_prior\n",
        "        self.bins = None\n",
        "        self.bin_posteriors = None  # list of (alpha, beta) tuples per bin\n",
        "\n",
        "    def fit(self, confidences, correctness):\n",
        "        \"\"\"\n",
        "        Fit the Bayesian bins using training confidences and correctness labels.\n",
        "\n",
        "        Args:\n",
        "            confidences (np.array): Prediction confidences (0-1)\n",
        "            correctness (np.array): Binary correctness (0 or 1)\n",
        "        \"\"\"\n",
        "        # Define bin edges\n",
        "        self.bins = np.linspace(0, 1, self.n_bins + 1)\n",
        "        self.bin_posteriors = []\n",
        "\n",
        "        # Compute posterior Beta parameters for each bin\n",
        "        for i in range(self.n_bins):\n",
        "            mask = (confidences >= self.bins[i]) & (confidences < self.bins[i+1])\n",
        "            correct_in_bin = np.sum(correctness[mask])\n",
        "            incorrect_in_bin = np.sum(mask) - correct_in_bin\n",
        "\n",
        "            alpha_post = self.alpha_prior + correct_in_bin\n",
        "            beta_post = self.beta_prior + incorrect_in_bin\n",
        "\n",
        "            self.bin_posteriors.append((alpha_post, beta_post))\n",
        "\n",
        "    def predict(self, confidences, return_posterior=False):\n",
        "        \"\"\"\n",
        "        Apply Bayesian binning to new confidences.\n",
        "\n",
        "        Args:\n",
        "            confidences (np.array): Array of predicted confidences\n",
        "            return_posterior (bool): If True, return full Beta distributions\n",
        "        Returns:\n",
        "            np.array: Calibrated confidences\n",
        "        \"\"\"\n",
        "        calibrated = np.zeros_like(confidences)\n",
        "        posterior_distributions = []\n",
        "\n",
        "        for idx, conf in enumerate(confidences):\n",
        "            # Find bin\n",
        "            bin_idx = np.searchsorted(self.bins, conf, side='right') - 1\n",
        "            bin_idx = np.clip(bin_idx, 0, self.n_bins - 1)\n",
        "\n",
        "            alpha_post, beta_post = self.bin_posteriors[bin_idx]\n",
        "            posterior_distributions.append(beta(alpha_post, beta_post))\n",
        "\n",
        "            # Calibrated probability = mean of Beta\n",
        "            calibrated[idx] = alpha_post / (alpha_post + beta_post)\n",
        "\n",
        "        if return_posterior:\n",
        "            return calibrated, posterior_distributions\n",
        "        return calibrated\n"
      ]
    },
    {
      "cell_type": "code",
      "execution_count": null,
      "id": "8a0BKY6AA5XM",
      "metadata": {
        "id": "8a0BKY6AA5XM"
      },
      "outputs": [],
      "source": [
        "# Train BBQ calibrator\n",
        "bbq = BayesianBinningCalibrator(n_bins=10, alpha_prior=1.0, beta_prior=1.0)\n",
        "bbq.fit(train_confidences, train_correctness)\n",
        "\n",
        "# Apply to test set\n",
        "bbq_calibrated_test_confidences = bbq.predict(test_confidences)\n"
      ]
    },
    {
      "cell_type": "code",
      "execution_count": null,
      "id": "zZN0jMeoBAgI",
      "metadata": {
        "colab": {
          "base_uri": "https://localhost:8080/",
          "height": 526
        },
        "id": "zZN0jMeoBAgI",
        "outputId": "48a9a320-b0f4-488e-e591-d07501cdda81"
      },
      "outputs": [
        {
          "data": {
            "image/png": "[encoded data removed]",
            "text/plain": [
              "<Figure size 640x480 with 1 Axes>"
            ]
          },
          "metadata": {},
          "output_type": "display_data"
        },
        {
          "name": "stdout",
          "output_type": "stream",
          "text": [
            "ECE: 0.003185031988079804\n",
            "MCE: 0.31982942430703637\n",
            "Brier Score: 0.012976547231977234\n"
          ]
        }
      ],
      "source": [
        "plot_reliability_diagram(bbq_calibrated_test_confidences, test_correctness, n_bins=10)\n",
        "bbq_ece = calculate_ece(bbq_calibrated_test_confidences, test_correctness, n_bins=10)\n",
        "bbq_mce = calculate_mce(bbq_calibrated_test_confidences, test_correctness, n_bins=10)\n",
        "bbq_brier = calculate_brier_score(bbq_calibrated_test_confidences, test_correctness)\n",
        "print(f'ECE: {bbq_ece}')\n",
        "print(f'MCE: {bbq_mce}')\n",
        "print(f'Brier Score: {bbq_brier}')\n",
        "results.append(['bbq', bbq_ece, bbq_mce, bbq_brier])"
      ]
    },
    {
      "cell_type": "code",
      "execution_count": null,
      "id": "7aaCz4C6Beu3",
      "metadata": {
        "colab": {
          "base_uri": "https://localhost:8080/",
          "height": 617
        },
        "id": "7aaCz4C6Beu3",
        "outputId": "61c5bca9-af12-4b41-b326-3b3e9edc3b6f"
      },
      "outputs": [
        {
          "name": "stdout",
          "output_type": "stream",
          "text": [
            "      method       ece       mce     brier\n",
            "0        raw  0.125523  0.407441  0.029312\n",
            "1   isotonic  0.006802  0.352941  0.013082\n",
            "2  histogram  0.002862  0.318681  0.012970\n",
            "3        bbq  0.003185  0.319829  0.012977\n"
          ]
        },
        {
          "data": {
            "image/png": "[encoded data removed]",
            "text/plain": [
              "<Figure size 640x480 with 1 Axes>"
            ]
          },
          "metadata": {},
          "output_type": "display_data"
        }
      ],
      "source": [
        "results_df = pd.DataFrame(results, columns=['method', 'ece', 'mce', 'brier'])\n",
        "# Create barchart of results\n",
        "results_df.plot(x='method', y=['ece', 'mce', 'brier'], kind='bar', title='Calibration Results')\n",
        "# Print the results in a table\n",
        "print(results_df)"
      ]
    },
    {
      "cell_type": "markdown",
      "id": "k0npgk62JP9V",
      "metadata": {
        "id": "k0npgk62JP9V"
      },
      "source": [
        "#### Conclusion\n",
        "Any calibration technique is better than none. Also, in production, your customer will notice ECE every day, but MCE is what will stand out on the days things go wrong. As always, data science is a people industry, choose your metrics accordingly."
      ]
    },
    {
      "cell_type": "code",
      "execution_count": null,
      "id": "IRLXAaXCJQSH",
      "metadata": {
        "id": "IRLXAaXCJQSH"
      },
      "outputs": [],
      "source": []
    }
  ],
  "metadata": {
    "accelerator": "GPU",
    "colab": {
      "gpuType": "T4",
      "provenance": []
    },
    "kernelspec": {
      "display_name": "Python 3",
      "name": "python3"
    },
    "language_info": {
      "name": "python"
    }
  },
  "nbformat": 4,
  "nbformat_minor": 5
}
